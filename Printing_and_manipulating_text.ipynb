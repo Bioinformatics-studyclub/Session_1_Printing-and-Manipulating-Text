{
 "cells": [
  {
   "cell_type": "markdown",
   "metadata": {},
   "source": [
    "\n",
    "<h1><center><ins>Working with Numbers and Strings</ins></center></h1>\n",
    "\n",
    "\n",
    "    "
   ]
  },
  {
   "cell_type": "markdown",
   "metadata": {},
   "source": [
    "<div class = \"alert alert-block alert-info\">\n",
    "    \n",
    "> In programming a distinction is made between **numbers** and **text**. \n",
    "\n",
    "> A number can be printed as is. \n",
    "\n",
    "> A string is a bunch of text characters \n",
    "\n",
    "> and to distinguish **text** from **numbers** \n",
    "\n",
    "> we surround it with a **quotes**\n",
    "\n",
    "\n",
    "Let's print some numbers and strings\n"
   ]
  },
  {
   "cell_type": "code",
   "execution_count": 22,
   "metadata": {},
   "outputs": [
    {
     "data": {
      "text/plain": [
       "6"
      ]
     },
     "execution_count": 22,
     "metadata": {},
     "output_type": "execute_result"
    }
   ],
   "source": [
    "1 + 5"
   ]
  },
  {
   "cell_type": "code",
   "execution_count": 23,
   "metadata": {},
   "outputs": [
    {
     "data": {
      "text/plain": [
       "3"
      ]
     },
     "execution_count": 23,
     "metadata": {},
     "output_type": "execute_result"
    }
   ],
   "source": [
    "# this will either give an error or only read the last line (depending on your IDE)\n",
    "\n",
    "1 + 5 \n",
    "+ 3"
   ]
  },
  {
   "cell_type": "code",
   "execution_count": 24,
   "metadata": {},
   "outputs": [
    {
     "data": {
      "text/plain": [
       "9"
      ]
     },
     "execution_count": 24,
     "metadata": {},
     "output_type": "execute_result"
    }
   ],
   "source": [
    "# you may use brackets to show that you are not done with your statement\n",
    "\n",
    "(1 + 5 \n",
    "+ 3)"
   ]
  },
  {
   "cell_type": "code",
   "execution_count": 25,
   "metadata": {},
   "outputs": [
    {
     "data": {
      "text/plain": [
       "9"
      ]
     },
     "execution_count": 25,
     "metadata": {},
     "output_type": "execute_result"
    }
   ],
   "source": [
    "# you may also use an escape character \"\\\"\n",
    "# to show that you are not done with your statement\n",
    "\n",
    "1 + 5 \\\n",
    " + 3"
   ]
  },
  {
   "cell_type": "markdown",
   "metadata": {},
   "source": [
    "<div class=\"alert alert-block alert-danger\">\n",
    "\n",
    "\n",
    "<h1><center>Warning!!</center></h1>\n",
    "\n",
    "> Be careful what follows the `\"\\\"`\n",
    "\n",
    "> Because there are also special characters, such as:\n",
    "\n",
    "> `\\n` = new line\n",
    "\n",
    "> `\\t`  = tab\n",
    "\n",
    "> ....etc.\n",
    "\n",
    "> This may make your code do someting you did not intend"
   ]
  },
  {
   "cell_type": "markdown",
   "metadata": {},
   "source": [
    "<div class = \"alert alert-block alert-info\">\n",
    "\n",
    "### Some Python operations include: \n",
    "\n",
    "\n",
    "| Symbol\t| Task Performed |\n",
    "|-----------|  ---------     |\n",
    "|+\t        | Addition       |\n",
    "|-\t        | Subtraction    |\n",
    "|/          | division       |\n",
    "|%\t        | modulo         | \n",
    "|*\t        | multiplication |\n",
    "|//         | floor division | \n",
    "|**         | to the power of|\n",
    "\n",
    "\n",
    "\n",
    "> ` Note that some of these can be used with strings and numbers`\n",
    "\n",
    "> ` Other mathematical and statistical operations may be imported using Python libraries`\n"
   ]
  },
  {
   "cell_type": "code",
   "execution_count": 26,
   "metadata": {},
   "outputs": [
    {
     "data": {
      "text/plain": [
       "2.5"
      ]
     },
     "execution_count": 26,
     "metadata": {},
     "output_type": "execute_result"
    }
   ],
   "source": [
    "# this output a float, because it gives a decimal number \n",
    "\n",
    "10/4\n",
    " "
   ]
  },
  {
   "cell_type": "code",
   "execution_count": 27,
   "metadata": {},
   "outputs": [
    {
     "data": {
      "text/plain": [
       "2"
      ]
     },
     "execution_count": 27,
     "metadata": {},
     "output_type": "execute_result"
    }
   ],
   "source": [
    "# Floor (//)\n",
    "# Formal definition:the largest integer, that is not greater than the result of the division\n",
    "# Similar to rounding DOWN\n",
    "\n",
    "10 // 4"
   ]
  },
  {
   "cell_type": "code",
   "execution_count": 28,
   "metadata": {},
   "outputs": [
    {
     "data": {
      "text/plain": [
       "2"
      ]
     },
     "execution_count": 28,
     "metadata": {},
     "output_type": "execute_result"
    }
   ],
   "source": [
    "round (10/4)"
   ]
  },
  {
   "cell_type": "code",
   "execution_count": null,
   "metadata": {},
   "outputs": [],
   "source": [
    "import Jamie_Oliver_library as JOL\n",
    "\n",
    "Jamie_Oliver_library.microwave(pasta)\n",
    "JOL.microwave(pasta)\n",
    "\n",
    "Jamie_Oliver_library.spoon(ice-cream)"
   ]
  },
  {
   "cell_type": "code",
   "execution_count": 29,
   "metadata": {},
   "outputs": [
    {
     "data": {
      "text/plain": [
       "2"
      ]
     },
     "execution_count": 29,
     "metadata": {},
     "output_type": "execute_result"
    }
   ],
   "source": [
    "# we can also import a Math library\n",
    "# which gives us additional capabilities\n",
    "\n",
    "import math \n",
    "\n",
    "math.floor(10/4) # rounds down"
   ]
  },
  {
   "cell_type": "code",
   "execution_count": 30,
   "metadata": {},
   "outputs": [
    {
     "data": {
      "text/plain": [
       "3"
      ]
     },
     "execution_count": 30,
     "metadata": {},
     "output_type": "execute_result"
    }
   ],
   "source": [
    "math.ceil(10/4) #rounds up"
   ]
  },
  {
   "cell_type": "code",
   "execution_count": 31,
   "metadata": {},
   "outputs": [
    {
     "data": {
      "text/plain": [
       "2"
      ]
     },
     "execution_count": 31,
     "metadata": {},
     "output_type": "execute_result"
    }
   ],
   "source": [
    "# returns the remainder after division\n",
    "\n",
    "10%4 # 10 /4  = 8 , with a remainder of 2"
   ]
  },
  {
   "cell_type": "code",
   "execution_count": 32,
   "metadata": {},
   "outputs": [
    {
     "data": {
      "text/plain": [
       "1"
      ]
     },
     "execution_count": 32,
     "metadata": {},
     "output_type": "execute_result"
    }
   ],
   "source": [
    "10%3 # 10 /3  = 9 , with a remainder of 1"
   ]
  },
  {
   "cell_type": "markdown",
   "metadata": {},
   "source": [
    "<div class = \"alert alert-block alert-info\">\n",
    "\n",
    "> Note that any decimal number is called a float  \n",
    "\n",
    "> A non-decimal number is an integer\n",
    "\n",
    "> To convert between number types\n",
    "\n",
    "> You may use the built-in functions\n",
    "\n",
    ">  `int ()`  and `float()`"
   ]
  },
  {
   "cell_type": "code",
   "execution_count": 35,
   "metadata": {},
   "outputs": [
    {
     "data": {
      "text/plain": [
       "2"
      ]
     },
     "execution_count": 35,
     "metadata": {},
     "output_type": "execute_result"
    }
   ],
   "source": [
    "# e.g.\n",
    "# convert float to integer\n",
    "# convert 2.5 to 2\n",
    "\n",
    "# Using int ()\n",
    "\n",
    "int(2.5)"
   ]
  },
  {
   "cell_type": "code",
   "execution_count": 36,
   "metadata": {},
   "outputs": [
    {
     "data": {
      "text/plain": [
       "2.0"
      ]
     },
     "execution_count": 36,
     "metadata": {},
     "output_type": "execute_result"
    }
   ],
   "source": [
    "# convert integer to float \n",
    "# convert 2 to 2.0\n",
    "\n",
    "# Using float ( )\n",
    "\n",
    "float (2)"
   ]
  },
  {
   "cell_type": "markdown",
   "metadata": {},
   "source": [
    "<div class = \"alert alert-block alert-info\" >\n",
    "\n",
    "> But you can also turn numbers into text\n",
    "\n",
    "> Although its use might not be immediately apparent"
   ]
  },
  {
   "cell_type": "code",
   "execution_count": 37,
   "metadata": {},
   "outputs": [
    {
     "data": {
      "text/plain": [
       "'1 + 5'"
      ]
     },
     "execution_count": 37,
     "metadata": {},
     "output_type": "execute_result"
    }
   ],
   "source": [
    "# note that no math is being done. This is now a string\n",
    "\n",
    "'1 + 5' "
   ]
  },
  {
   "cell_type": "code",
   "execution_count": 38,
   "metadata": {},
   "outputs": [
    {
     "data": {
      "text/plain": [
       "'6'"
      ]
     },
     "execution_count": 38,
     "metadata": {},
     "output_type": "execute_result"
    }
   ],
   "source": [
    "#these two are not the same\n",
    "1 + 5\n",
    "str(1 + 5)"
   ]
  },
  {
   "cell_type": "markdown",
   "metadata": {},
   "source": [
    "<div class = \"alert alert-block alert-info\">\n",
    "    \n",
    "> Although the above statement doesn't give an error \n",
    "    \n",
    "> This only really works in this way in Jupyter \n",
    "\n",
    "> It's better to do it properly \n",
    "\n",
    "> Using the print function "
   ]
  },
  {
   "cell_type": "code",
   "execution_count": null,
   "metadata": {},
   "outputs": [],
   "source": [
    "# print () is a function, which accepts an argument inside the brackets\n",
    "print()"
   ]
  },
  {
   "cell_type": "code",
   "execution_count": 39,
   "metadata": {},
   "outputs": [
    {
     "name": "stdout",
     "output_type": "stream",
     "text": [
      "1 + 5\n"
     ]
    }
   ],
   "source": [
    "print ('1 + 5')"
   ]
  },
  {
   "cell_type": "markdown",
   "metadata": {},
   "source": [
    "<div class = \"alert alert-block alert-info\" >    \n",
    "    \n",
    "> Note that you have to use <ins> **BRACKETS** </ins> and you have to use <ins> **QUOTES** </ins>"
   ]
  },
  {
   "cell_type": "code",
   "execution_count": 40,
   "metadata": {},
   "outputs": [
    {
     "ename": "SyntaxError",
     "evalue": "invalid syntax (<ipython-input-40-d9d24abb22ce>, line 1)",
     "output_type": "error",
     "traceback": [
      "\u001b[0;36m  File \u001b[0;32m\"<ipython-input-40-d9d24abb22ce>\"\u001b[0;36m, line \u001b[0;32m1\u001b[0m\n\u001b[0;31m    print (I am learning to code)\u001b[0m\n\u001b[0m              ^\u001b[0m\n\u001b[0;31mSyntaxError\u001b[0m\u001b[0;31m:\u001b[0m invalid syntax\n"
     ]
    }
   ],
   "source": [
    "print (I am learning to code)"
   ]
  },
  {
   "cell_type": "code",
   "execution_count": 41,
   "metadata": {},
   "outputs": [
    {
     "name": "stdout",
     "output_type": "stream",
     "text": [
      "I am learning to code\n"
     ]
    }
   ],
   "source": [
    "print (\"I am learning to code\") # this entire line is called a STATEMENT\n"
   ]
  },
  {
   "cell_type": "code",
   "execution_count": 42,
   "metadata": {},
   "outputs": [
    {
     "name": "stdout",
     "output_type": "stream",
     "text": [
      "I am learning to code\n"
     ]
    }
   ],
   "source": [
    "print ('I am learning to code') # to print strings, you may use single or double quotes"
   ]
  },
  {
   "cell_type": "markdown",
   "metadata": {},
   "source": [
    "<div class = \"alert alert-block alert-info\">\n",
    "\n",
    "> Normally we assign strings and numbers to <ins> **variables** </ins> \n",
    "\n",
    "> A variable is like a file or folder that hold your important information\n",
    "\n",
    "> Normally, you would name your file or folder in such a way \n",
    "\n",
    "> That is is easy for you to know what is kept inside it \n",
    "\n",
    "> By looking at the file or folder name "
   ]
  },
  {
   "cell_type": "code",
   "execution_count": 44,
   "metadata": {},
   "outputs": [],
   "source": [
    "first_number = 1\n",
    "second_number = 2\n",
    "add_two_numbers = first_number + second_number\n",
    "# note that this last statement will NOT print\n",
    "# unless you explicitly use the print function"
   ]
  },
  {
   "cell_type": "code",
   "execution_count": 45,
   "metadata": {},
   "outputs": [
    {
     "name": "stdout",
     "output_type": "stream",
     "text": [
      "3\n"
     ]
    }
   ],
   "source": [
    "print (add_two_numbers)"
   ]
  },
  {
   "cell_type": "markdown",
   "metadata": {},
   "source": [
    "<div class = \"alert alert-block alert-info\">\n",
    "\n",
    "### Rules for Choosing Variable Names\n",
    "\n",
    "> * No spaces or tabs at the start of the variable name OR in between the variable name, e.g. `first number`\n",
    "\n",
    "\n",
    "> * Indentation matters in Python, so start at the start of the line\n",
    "\n",
    "\n",
    "> * You may use built-in Python words or booleans # e.g. `print` or `True`\n",
    "\n",
    "\n",
    "> * When you use a variable name twice, it takes the new value\n",
    "\n",
    "\n",
    "> * If you use `#` at the start of the line, the line will not be executed. It's a signal to say: \"I just want to leave a comment.\"\n",
    "\n",
    "\n",
    "> * Use a meaningful names, so that your code is easy to read"
   ]
  },
  {
   "cell_type": "code",
   "execution_count": 47,
   "metadata": {},
   "outputs": [
    {
     "name": "stdout",
     "output_type": "stream",
     "text": [
      "ATGCGTA\n"
     ]
    }
   ],
   "source": [
    "my_dna = \"ATGCGTA\" # you have now assigned a sequence of DNA to your variable name `my_dna`\n",
    "print (my_dna)\n"
   ]
  },
  {
   "cell_type": "code",
   "execution_count": 48,
   "metadata": {},
   "outputs": [
    {
     "name": "stdout",
     "output_type": "stream",
     "text": [
      "TGGTCCA\n"
     ]
    }
   ],
   "source": [
    "my_dna = \"TGGTCCA\" # if you use the same variable name, your first sequence is now lost\n",
    "print (my_dna)"
   ]
  },
  {
   "cell_type": "code",
   "execution_count": 49,
   "metadata": {},
   "outputs": [
    {
     "name": "stdout",
     "output_type": "stream",
     "text": [
      "TGGTCCA\n"
     ]
    }
   ],
   "source": [
    "print (my_dna)"
   ]
  },
  {
   "cell_type": "markdown",
   "metadata": {},
   "source": [
    "<div class = \"alert alert-block alert-info\">\n",
    "\n",
    "<h2><center>Concatenation and Multiplication</center></h2>"
   ]
  },
  {
   "cell_type": "code",
   "execution_count": 50,
   "metadata": {},
   "outputs": [
    {
     "name": "stdout",
     "output_type": "stream",
     "text": [
      "ATGCGTATGGTCCA\n"
     ]
    }
   ],
   "source": [
    "dna_1 = \"ATGCGTA\"\n",
    "dna_2 = \"TGGTCCA\"\n",
    "\n",
    "add_dna1_dna2 = dna_1 + dna_2 \n",
    "\n",
    "print (add_dna1_dna2)\n"
   ]
  },
  {
   "cell_type": "code",
   "execution_count": 51,
   "metadata": {},
   "outputs": [
    {
     "name": "stdout",
     "output_type": "stream",
     "text": [
      "AAAAAAAAA\n"
     ]
    }
   ],
   "source": [
    "poly_A_tail = \"AAA\"*3\n",
    "\n",
    "print (poly_A_tail)"
   ]
  },
  {
   "cell_type": "markdown",
   "metadata": {},
   "source": [
    "<div class = \"alert alert-block alert-info\" >\n",
    "\n",
    "<h2><center>The <code>len ()</code> Function</center></h2>"
   ]
  },
  {
   "cell_type": "code",
   "execution_count": 52,
   "metadata": {},
   "outputs": [
    {
     "data": {
      "text/plain": [
       "7"
      ]
     },
     "execution_count": 52,
     "metadata": {},
     "output_type": "execute_result"
    }
   ],
   "source": [
    "# What is the length of your DNA sequence\n",
    "len(dna_1) \n"
   ]
  },
  {
   "cell_type": "code",
   "execution_count": 53,
   "metadata": {},
   "outputs": [
    {
     "data": {
      "text/plain": [
       "14"
      ]
     },
     "execution_count": 53,
     "metadata": {},
     "output_type": "execute_result"
    }
   ],
   "source": [
    "len(add_dna1_dna2)"
   ]
  },
  {
   "cell_type": "code",
   "execution_count": 123,
   "metadata": {},
   "outputs": [
    {
     "ename": "TypeError",
     "evalue": "can only concatenate str (not \"int\") to str",
     "output_type": "error",
     "traceback": [
      "\u001b[0;31m---------------------------------------------------------------------------\u001b[0m",
      "\u001b[0;31mTypeError\u001b[0m                                 Traceback (most recent call last)",
      "\u001b[0;32m<ipython-input-123-f09deba95adf>\u001b[0m in \u001b[0;36m<module>\u001b[0;34m\u001b[0m\n\u001b[1;32m      1\u001b[0m \u001b[0;31m# this will give an error\u001b[0m\u001b[0;34m\u001b[0m\u001b[0;34m\u001b[0m\u001b[0;34m\u001b[0m\u001b[0m\n\u001b[0;32m----> 2\u001b[0;31m \u001b[0mprint\u001b[0m \u001b[0;34m(\u001b[0m\u001b[0;34m\"The length of my 1st dna sequence\"\u001b[0m \u001b[0;34m+\u001b[0m \u001b[0mdna_1\u001b[0m \u001b[0;34m+\u001b[0m \u001b[0;34m\"is:\"\u001b[0m \u001b[0;34m+\u001b[0m  \u001b[0mlen\u001b[0m\u001b[0;34m(\u001b[0m\u001b[0mdna_1\u001b[0m\u001b[0;34m)\u001b[0m\u001b[0;34m)\u001b[0m\u001b[0;34m\u001b[0m\u001b[0;34m\u001b[0m\u001b[0m\n\u001b[0m\u001b[1;32m      3\u001b[0m \u001b[0;34m\u001b[0m\u001b[0m\n",
      "\u001b[0;31mTypeError\u001b[0m: can only concatenate str (not \"int\") to str"
     ]
    }
   ],
   "source": [
    "# this will give an error\n",
    "\n",
    "print (\"The length of my 1st dna sequence\" + dna_1 + \"is:\" +  len(dna_1))\n",
    "\n",
    "# you cannot mix numbers and strings when printing\n",
    "# By using concatenation (\"+\"), you do not solve the problem of mixing the two\n",
    "# Also, contatenation leaves no spaces between the things you are trying to print\n",
    "# For an example, look at block 124 (two blocks down)"
   ]
  },
  {
   "cell_type": "code",
   "execution_count": 55,
   "metadata": {},
   "outputs": [
    {
     "name": "stdout",
     "output_type": "stream",
     "text": [
      "The length of my dna sequence ATGCGTA is: 7\n"
     ]
    }
   ],
   "source": [
    "# using a comma\n",
    "\n",
    "print (\"The length of my dna sequence\", dna_1, \"is:\",  len(dna_1))"
   ]
  },
  {
   "cell_type": "code",
   "execution_count": 56,
   "metadata": {},
   "outputs": [
    {
     "name": "stdout",
     "output_type": "stream",
     "text": [
      "The length of my dna sequence ATGCGTA is:7\n"
     ]
    }
   ],
   "source": [
    "# str() is another built in function to convert a number to a string\n",
    "\n",
    "print (\"The length of my dna sequence\", dna_1, \"is:\" +  str(len(dna_1)))"
   ]
  },
  {
   "cell_type": "code",
   "execution_count": 124,
   "metadata": {},
   "outputs": [
    {
     "name": "stdout",
     "output_type": "stream",
     "text": [
      "The length of my dna sequenceATGCGTAis:7\n"
     ]
    }
   ],
   "source": [
    "\n",
    "string_of_length_dna_1 = str(len(dna_1))\n",
    "\n",
    "print (\"The length of my dna sequence\" + dna_1 +  \"is:\" +  string_of_length_dna_1)\n",
    "# note that when using commas, a space is automatically inserted, but not when using a \"+\""
   ]
  },
  {
   "cell_type": "code",
   "execution_count": 61,
   "metadata": {},
   "outputs": [
    {
     "name": "stdout",
     "output_type": "stream",
     "text": [
      "The length of my dna sequence ATGCGTA is: 7\n"
     ]
    }
   ],
   "source": [
    "# %s\n",
    "\n",
    "print (\"The length of my dna sequence\", dna_1, \"is: %s\"  %len(dna_1))\n",
    "\n"
   ]
  },
  {
   "cell_type": "markdown",
   "metadata": {},
   "source": [
    "<div class = \"alert alert-block alert-info\">\n",
    "\n",
    "> **There are many other such operators**\n",
    "\n",
    "> But for now, just keep them in mind\n",
    "\n",
    "> - %s -> string\n",
    "> - %d -> Integer\n",
    "> - %f -> Float\n",
    "> - %o -> Octal\n",
    "> - %x -> Hexadecimal\n",
    "> - %e -> exponential"
   ]
  },
  {
   "cell_type": "markdown",
   "metadata": {},
   "source": [
    "<div class = \"alert alert-block alert-info\" >\n",
    "    \n",
    "<h2><center>Changing case</center></h2>\n"
   ]
  },
  {
   "cell_type": "markdown",
   "metadata": {},
   "source": [
    "<div class = \"alert alert-block alert-info\" >\n",
    "\n",
    "> To change between cases, we can two methods\n",
    "\n",
    "\n",
    "> A method is like a function, but it normally belongs to a certain data type in programming languages, and does not work with other data types\n",
    "\n",
    "> For example, you may use the `print ()` function to print both numbers and strings, but you may not use the methods `.upper()` and `.lower()` with numbers.\n",
    "\n",
    "> Normally methods also use a `.` before the method name\n",
    "\n",
    "> And with methods, you usualy do not add an <ins>**argument**</ins> inside the brackets. That is, `.lower()` remains empty"
   ]
  },
  {
   "cell_type": "code",
   "execution_count": 63,
   "metadata": {},
   "outputs": [
    {
     "name": "stdout",
     "output_type": "stream",
     "text": [
      "ATGC\n"
     ]
    }
   ],
   "source": [
    "my_dna = \"ATGC\"\n",
    "print (my_dna)"
   ]
  },
  {
   "cell_type": "code",
   "execution_count": 66,
   "metadata": {},
   "outputs": [
    {
     "name": "stdout",
     "output_type": "stream",
     "text": [
      "atgc\n",
      "atgc\n"
     ]
    }
   ],
   "source": [
    "# print my_dna in lower case\n",
    "print(my_dna.lower()) # creating dna variable and changing to lower case\n",
    "\n",
    "lowercase_dna = my_dna.lower()\n",
    "print(lowercase_dna)\n"
   ]
  },
  {
   "cell_type": "markdown",
   "metadata": {},
   "source": [
    "<div class = \"alert alert-block alert-info\" >\n",
    "\n",
    "> Also note, that with <ins>**Methods**</ins>, the **variable name** comes **first** and then the method is applied: `my_dna.lower()`\n",
    "\n",
    "> While with <ins>**Functions**</ins>, the **function name** comes **first**, and then the variable name: `print(my_dna)`"
   ]
  },
  {
   "cell_type": "markdown",
   "metadata": {},
   "source": [
    "<div class = \"alert alert-block alert-info\" >\n",
    "    \n",
    "<h2><center>Replacement</center></h2>"
   ]
  },
  {
   "cell_type": "markdown",
   "metadata": {},
   "source": [
    "<div class = \"alert alert-block alert-info\" >\n",
    "    \n",
    "> The `.replace()` method takes **two arguments**\n"
   ]
  },
  {
   "cell_type": "code",
   "execution_count": 67,
   "metadata": {},
   "outputs": [
    {
     "name": "stdout",
     "output_type": "stream",
     "text": [
      "Jack\n"
     ]
    }
   ],
   "source": [
    "old_boyfriend = \"Jack\"\n",
    "print (old_boyfriend)"
   ]
  },
  {
   "cell_type": "code",
   "execution_count": 68,
   "metadata": {},
   "outputs": [
    {
     "name": "stdout",
     "output_type": "stream",
     "text": [
      "Jake\n"
     ]
    }
   ],
   "source": [
    "# replace \"ck\" with \"ke\"\n",
    "new_boyfriend = old_boyfriend.replace(\"ck\", \"ke\")\n",
    "print (new_boyfriend)"
   ]
  },
  {
   "cell_type": "code",
   "execution_count": 69,
   "metadata": {},
   "outputs": [
    {
     "name": "stdout",
     "output_type": "stream",
     "text": [
      "vlsktnv\n",
      "vls ktnv\n"
     ]
    }
   ],
   "source": [
    "# you may replace multiple characters\n",
    "# or even replace it with nothing, a.k.a. delete characters\n",
    "\n",
    "protein = \"vlspadktnv\"\n",
    "\n",
    "print(protein.replace(\"pad\",\"\")\n",
    "print(protein.replace(\"pad\",\" \")) # note that there is a difference between this and the above"
   ]
  },
  {
   "cell_type": "markdown",
   "metadata": {},
   "source": [
    "<div class = \"alert alert-block alert-info\" >\n",
    "    \n",
    "    \n",
    "<h2><center>Extracting part of a string</center></h2>\n",
    "\n",
    "> We also use square brackets `[ ]` to deal with sub-sections of the string **_(substring)_**"
   ]
  },
  {
   "cell_type": "code",
   "execution_count": 71,
   "metadata": {},
   "outputs": [
    {
     "name": "stdout",
     "output_type": "stream",
     "text": [
      "pa\n",
      "pad\n"
     ]
    }
   ],
   "source": [
    "protein = \"vlspadktnv\"\n",
    "# print positions three to five\n",
    "\n",
    "print(protein[3:5])\n",
    "\n",
    "print(protein[3:6])\n"
   ]
  },
  {
   "cell_type": "markdown",
   "metadata": {},
   "source": [
    "<div class=\"alert alert-block alert-danger\">\n",
    "    \n",
    "<h1><center>Warning!!</center></h1>\n",
    "    \n",
    "> Note that the first position is counted as position zero and not as position 1\n",
    "    \n",
    "> Aso note that the positions are inclusive at the start\n",
    "\n",
    "> But exclusive at the stop\n",
    "\n",
    "> So you will see **[3]** that was actually the fourth amino acid **p** **_(proline)_.** This position was included\n",
    "\n",
    "\n",
    "> But even though **d** **_(aspartic acid)_** was at position **5**, the substring does not include that position, but stops at the position before\n",
    "\n",
    "> Hence, `[3:5]`, really grabs everthing from position `[3:4]`\n",
    "\n",
    "(see exaple of indexing below)\n",
    "\n",
    "![image indexing](https://cdn.programiz.com/sites/tutorial2program/files/python-list-index.png)"
   ]
  },
  {
   "cell_type": "code",
   "execution_count": 72,
   "metadata": {},
   "outputs": [
    {
     "name": "stdout",
     "output_type": "stream",
     "text": [
      "vlspad\n"
     ]
    }
   ],
   "source": [
    "# positions start at zero, not one\n",
    "protein = \"vlspadktnv\"\n",
    "print(protein[0:6])\n"
   ]
  },
  {
   "cell_type": "code",
   "execution_count": 73,
   "metadata": {},
   "outputs": [
    {
     "name": "stdout",
     "output_type": "stream",
     "text": [
      "vlspadktnv\n"
     ]
    }
   ],
   "source": [
    "# if we use a stop position beyond the end, it's the same as using the end\n",
    "print(protein[0:60])"
   ]
  },
  {
   "cell_type": "code",
   "execution_count": 75,
   "metadata": {},
   "outputs": [
    {
     "name": "stdout",
     "output_type": "stream",
     "text": [
      "padktnv\n"
     ]
    }
   ],
   "source": [
    "# we can also leave the last position blank and it will print until the end\n",
    "print(protein[3:])"
   ]
  },
  {
   "cell_type": "code",
   "execution_count": 76,
   "metadata": {},
   "outputs": [
    {
     "name": "stdout",
     "output_type": "stream",
     "text": [
      "vlspa\n"
     ]
    }
   ],
   "source": [
    "# we can also leave the first position blank and it will print from the start\n",
    "print(protein[:5])"
   ]
  },
  {
   "cell_type": "markdown",
   "metadata": {},
   "source": [
    "<div class = \"alert alert-block alert-info\" >\n",
    "    \n",
    "> Can you figure out what will print if you leave both positions blank?\n",
    "\n",
    "> `print(protein[:])`"
   ]
  },
  {
   "cell_type": "code",
   "execution_count": 79,
   "metadata": {},
   "outputs": [
    {
     "name": "stdout",
     "output_type": "stream",
     "text": [
      "d\n"
     ]
    }
   ],
   "source": [
    "# you may also print single characters\n",
    "\n",
    "protein = \"vlspadktnv\"\n",
    "first_residue = protein[0]\n",
    "print(first_residue)"
   ]
  },
  {
   "cell_type": "code",
   "execution_count": 80,
   "metadata": {},
   "outputs": [
    {
     "name": "stdout",
     "output_type": "stream",
     "text": [
      "v\n",
      "v\n"
     ]
    }
   ],
   "source": [
    "# the positions are also numbered with negative numbers from the back\n",
    "\n",
    "# So you can either extract the last amino acid two ways\n",
    "\n",
    "protein = \"vlspadktnv\"\n",
    "\n",
    "last_residue = protein[9]\n",
    "print(last_residue)\n",
    "\n",
    "last_residue = protein[-1]\n",
    "print(last_residue)"
   ]
  },
  {
   "cell_type": "code",
   "execution_count": 81,
   "metadata": {},
   "outputs": [
    {
     "name": "stdout",
     "output_type": "stream",
     "text": [
      "n\n"
     ]
    }
   ],
   "source": [
    "second_last_residue  = protein[-2]\n",
    "print(second_last_residue)"
   ]
  },
  {
   "cell_type": "code",
   "execution_count": 82,
   "metadata": {},
   "outputs": [
    {
     "name": "stdout",
     "output_type": "stream",
     "text": [
      "kt\n"
     ]
    }
   ],
   "source": [
    "# extract from the back\n",
    "\n",
    "protein = \"vlspadktnv\"\n",
    "print(protein[-4:-2])"
   ]
  },
  {
   "cell_type": "code",
   "execution_count": 83,
   "metadata": {},
   "outputs": [
    {
     "data": {
      "text/plain": [
       "'DLVADVAEKTDLSKAKATEVIDAVF'"
      ]
     },
     "execution_count": 83,
     "metadata": {},
     "output_type": "execute_result"
    }
   ],
   "source": [
    "# What will this print?\n",
    "\n",
    "'MNKMDLVADVAEKTDLSKAKATEVIDAVFA'[4:-1]"
   ]
  },
  {
   "cell_type": "code",
   "execution_count": 84,
   "metadata": {},
   "outputs": [
    {
     "data": {
      "text/plain": [
       "'D'"
      ]
     },
     "execution_count": 84,
     "metadata": {},
     "output_type": "execute_result"
    }
   ],
   "source": [
    "# What will this print?\n",
    "\n",
    "'MNKMDLVADVAEKTDLSKAKATEVIDAVFA'[-5:-4]"
   ]
  },
  {
   "cell_type": "code",
   "execution_count": 85,
   "metadata": {},
   "outputs": [
    {
     "data": {
      "text/plain": [
       "''"
      ]
     },
     "execution_count": 85,
     "metadata": {},
     "output_type": "execute_result"
    }
   ],
   "source": [
    "# What will this print?\n",
    "\n",
    "'MNKMDLVADVAEKTDLSKAKATEVIDAVFA'[5:5]"
   ]
  },
  {
   "cell_type": "code",
   "execution_count": 86,
   "metadata": {},
   "outputs": [
    {
     "data": {
      "text/plain": [
       "''"
      ]
     },
     "execution_count": 86,
     "metadata": {},
     "output_type": "execute_result"
    }
   ],
   "source": [
    "# What will this print?\n",
    "\n",
    "'MNKMDLVADVAEKTDLSKAKATEVIDAVFA'[0:0]"
   ]
  },
  {
   "cell_type": "code",
   "execution_count": 87,
   "metadata": {},
   "outputs": [
    {
     "data": {
      "text/plain": [
       "'MNKMDLVADVAEKTDLSKAKATEVIDAVFA'"
      ]
     },
     "execution_count": 87,
     "metadata": {},
     "output_type": "execute_result"
    }
   ],
   "source": [
    "# What will this print?\n",
    "\n",
    "'MNKMDLVADVAEKTDLSKAKATEVIDAVFA'[:]"
   ]
  },
  {
   "cell_type": "code",
   "execution_count": 88,
   "metadata": {},
   "outputs": [
    {
     "name": "stdout",
     "output_type": "stream",
     "text": [
      "5867\n"
     ]
    }
   ],
   "source": [
    "# you can also use the skip function\n",
    "# the default = 1, meaning no skipping\n",
    "\n",
    "money = \"$5$8$6$7\"\n",
    "money_values = money[1::2]\n",
    "print(money_values)"
   ]
  },
  {
   "cell_type": "code",
   "execution_count": 89,
   "metadata": {},
   "outputs": [
    {
     "name": "stdout",
     "output_type": "stream",
     "text": [
      "7685\n"
     ]
    }
   ],
   "source": [
    "money = \"$5$8$6$7\"\n",
    "money_values = money[-1::-2] #you can also skip backwards. Be careful of your indexing\n",
    "print(money_values)"
   ]
  },
  {
   "cell_type": "code",
   "execution_count": 90,
   "metadata": {},
   "outputs": [
    {
     "name": "stdout",
     "output_type": "stream",
     "text": [
      "BMM\n"
     ]
    }
   ],
   "source": [
    "# how would you write this to create an acronym from the Big Mac Meal (BMM)\n",
    "\n",
    "order = \"TheBigMacMeal\"\n",
    "\n",
    "acronym = order[3:-1:3] \n",
    "print (acronym)"
   ]
  },
  {
   "cell_type": "markdown",
   "metadata": {},
   "source": [
    "<div class = \"alert alert-block alert-info\" >\n",
    "\n",
    "<h2><center>Counting and finding substrings</center></h2>"
   ]
  },
  {
   "cell_type": "markdown",
   "metadata": {},
   "source": [
    "<div class = \"alert alert-block alert-info\" >\n",
    "\n",
    "> In Biology it's very common to ascertain the amount of percentage of something. E.g. the **GC content** of a sequence in a fastq report\n",
    "\n",
    "> We may use the `.count()` method to start this off"
   ]
  },
  {
   "cell_type": "code",
   "execution_count": 91,
   "metadata": {},
   "outputs": [
    {
     "name": "stdout",
     "output_type": "stream",
     "text": [
      "valines: 2\n",
      "tryptophans: 0\n",
      "lsp: 1\n"
     ]
    }
   ],
   "source": [
    "protein = \"vlspadktnv\"\n",
    "\n",
    "# count amino acid residues\n",
    "valine_count = protein.count('v')\n",
    "lsp_count = protein.count('lsp')\n",
    "tryptophan_count = protein.count('w')\n",
    "\n",
    "\n",
    "# now print the counts\n",
    "# noticed that I used the three different methods that we saw before\n",
    "print(\"valines: \" + str(valine_count))\n",
    "print(\"tryptophans: %s\" % tryptophan_count)\n",
    "print(\"lsp:\", lsp_count)"
   ]
  },
  {
   "cell_type": "markdown",
   "metadata": {},
   "source": [
    "<div class = \"alert alert-block alert-info\" >\n",
    "\n",
    "> If you wish to know at which position in your string\n",
    "\n",
    "> Where you first encounter something in you are specifically looking for\n",
    "\n",
    "> Then you use the `.find()` method"
   ]
  },
  {
   "cell_type": "code",
   "execution_count": 99,
   "metadata": {},
   "outputs": [
    {
     "name": "stdout",
     "output_type": "stream",
     "text": [
      "3\n",
      "6\n",
      "-1\n"
     ]
    }
   ],
   "source": [
    "protein = \"vlspadktnv\"\n",
    "\n",
    "print(str(protein.find('p')))\n",
    "print(str(protein.find('kt')))\n",
    "print(str(protein.find('w'))) # .find() gives \"-1\" as output if what you are looking for is not in the string"
   ]
  },
  {
   "cell_type": "markdown",
   "metadata": {},
   "source": [
    "<div class = \"alert alert-block alert-info\" >\n",
    "\n",
    "\n",
    "<h2><center>String operators:</center></h2>\n",
    "\n",
    "                        \n",
    ">`in` and `not in`"
   ]
  },
  {
   "cell_type": "code",
   "execution_count": 100,
   "metadata": {},
   "outputs": [
    {
     "data": {
      "text/plain": [
       "True"
      ]
     },
     "execution_count": 100,
     "metadata": {},
     "output_type": "execute_result"
    }
   ],
   "source": [
    "TATA_box = 'TATATATATATATATATATATATA'\n",
    "\n",
    "'TATA' in TATA_box\n",
    "\n",
    "# gives a Boolean as output: True or False"
   ]
  },
  {
   "cell_type": "code",
   "execution_count": 101,
   "metadata": {},
   "outputs": [
    {
     "data": {
      "text/plain": [
       "False"
      ]
     },
     "execution_count": 101,
     "metadata": {},
     "output_type": "execute_result"
    }
   ],
   "source": [
    "\"GC\" in TATA_box"
   ]
  },
  {
   "cell_type": "code",
   "execution_count": 102,
   "metadata": {},
   "outputs": [
    {
     "data": {
      "text/plain": [
       "True"
      ]
     },
     "execution_count": 102,
     "metadata": {},
     "output_type": "execute_result"
    }
   ],
   "source": [
    "\"GC\" not in TATA_box"
   ]
  },
  {
   "cell_type": "code",
   "execution_count": 103,
   "metadata": {},
   "outputs": [
    {
     "name": "stdout",
     "output_type": "stream",
     "text": [
      "\n",
      "\n",
      "Please Enter your DNA to see whether you are a superhuman: \n",
      "\n",
      "If your name starts with A - G, your DNA is GATCA\n",
      "If your name starts with H - N, your DNA is CATT\n",
      "If your name starts with O - S, your DNA is AGAT\n",
      "If your name starts with T - Z, your DNA is TAAT\n",
      "TAAT\n",
      "\n",
      "I'm sorry. Your DNA shows that you are NAUGHTY.\n",
      "Maybe try to be on Santa's good list next year.\n"
     ]
    }
   ],
   "source": [
    "# Let's play with some code\n",
    "\n",
    "your_dna = input(\"\\n\\nPlease Enter your DNA to see whether you are a superhuman: \\n\\n\"\n",
    "                \"If your name starts with A - G, your DNA is GATCA\\n\"\n",
    "                \"If your name starts with H - N, your DNA is CATT\\n\"                 \n",
    "                \"If your name starts with O - S, your DNA is AGAT\\n\"\n",
    "                \"If your name starts with T - Z, your DNA is TAAT\\n\")\n",
    "\n",
    "your_dna = your_dna.upper()\n",
    "\n",
    "\n",
    "superhuman_DNA = \"ATTCCATCAAGCTGATCAGGTTATCCATCTAGATCATNNATAAAGTACTGGGCATGCAA\"\n",
    "if your_dna in superhuman_DNA:\n",
    "    print (\"\\nCongratulations. Your DNA shows that you have superpowers!!\")\n",
    "    \n",
    "elif your_dna == \"CATT\" or  your_dna == \"TAAT\":\n",
    "    print(\"\\nI'm sorry. Your DNA shows that you are NAUGHTY.\\n\"\n",
    "       \"Maybe try to be on Santa's good list next year.\")\n",
    "    \n",
    "else:\n",
    "    print(\"\\n\\nERROR: Please enter the correct DNA sequence\")"
   ]
  },
  {
   "cell_type": "markdown",
   "metadata": {},
   "source": [
    "<div class = \"alert alert-block alert-info\" >\n",
    "    \n",
    "> Use `help()` to find all the methods you can use when you are working with strings\n",
    "\n",
    "> You can try it now to see the methods we have already used\n",
    "\n",
    "> And which may be useful to you"
   ]
  },
  {
   "cell_type": "code",
   "execution_count": 104,
   "metadata": {},
   "outputs": [
    {
     "name": "stdout",
     "output_type": "stream",
     "text": [
      "Help on class str in module builtins:\n",
      "\n",
      "class str(object)\n",
      " |  str(object='') -> str\n",
      " |  str(bytes_or_buffer[, encoding[, errors]]) -> str\n",
      " |  \n",
      " |  Create a new string object from the given object. If encoding or\n",
      " |  errors is specified, then the object must expose a data buffer\n",
      " |  that will be decoded using the given encoding and error handler.\n",
      " |  Otherwise, returns the result of object.__str__() (if defined)\n",
      " |  or repr(object).\n",
      " |  encoding defaults to sys.getdefaultencoding().\n",
      " |  errors defaults to 'strict'.\n",
      " |  \n",
      " |  Methods defined here:\n",
      " |  \n",
      " |  __add__(self, value, /)\n",
      " |      Return self+value.\n",
      " |  \n",
      " |  __contains__(self, key, /)\n",
      " |      Return key in self.\n",
      " |  \n",
      " |  __eq__(self, value, /)\n",
      " |      Return self==value.\n",
      " |  \n",
      " |  __format__(self, format_spec, /)\n",
      " |      Return a formatted version of the string as described by format_spec.\n",
      " |  \n",
      " |  __ge__(self, value, /)\n",
      " |      Return self>=value.\n",
      " |  \n",
      " |  __getattribute__(self, name, /)\n",
      " |      Return getattr(self, name).\n",
      " |  \n",
      " |  __getitem__(self, key, /)\n",
      " |      Return self[key].\n",
      " |  \n",
      " |  __getnewargs__(...)\n",
      " |  \n",
      " |  __gt__(self, value, /)\n",
      " |      Return self>value.\n",
      " |  \n",
      " |  __hash__(self, /)\n",
      " |      Return hash(self).\n",
      " |  \n",
      " |  __iter__(self, /)\n",
      " |      Implement iter(self).\n",
      " |  \n",
      " |  __le__(self, value, /)\n",
      " |      Return self<=value.\n",
      " |  \n",
      " |  __len__(self, /)\n",
      " |      Return len(self).\n",
      " |  \n",
      " |  __lt__(self, value, /)\n",
      " |      Return self<value.\n",
      " |  \n",
      " |  __mod__(self, value, /)\n",
      " |      Return self%value.\n",
      " |  \n",
      " |  __mul__(self, value, /)\n",
      " |      Return self*value.\n",
      " |  \n",
      " |  __ne__(self, value, /)\n",
      " |      Return self!=value.\n",
      " |  \n",
      " |  __repr__(self, /)\n",
      " |      Return repr(self).\n",
      " |  \n",
      " |  __rmod__(self, value, /)\n",
      " |      Return value%self.\n",
      " |  \n",
      " |  __rmul__(self, value, /)\n",
      " |      Return value*self.\n",
      " |  \n",
      " |  __sizeof__(self, /)\n",
      " |      Return the size of the string in memory, in bytes.\n",
      " |  \n",
      " |  __str__(self, /)\n",
      " |      Return str(self).\n",
      " |  \n",
      " |  capitalize(self, /)\n",
      " |      Return a capitalized version of the string.\n",
      " |      \n",
      " |      More specifically, make the first character have upper case and the rest lower\n",
      " |      case.\n",
      " |  \n",
      " |  casefold(self, /)\n",
      " |      Return a version of the string suitable for caseless comparisons.\n",
      " |  \n",
      " |  center(self, width, fillchar=' ', /)\n",
      " |      Return a centered string of length width.\n",
      " |      \n",
      " |      Padding is done using the specified fill character (default is a space).\n",
      " |  \n",
      " |  count(...)\n",
      " |      S.count(sub[, start[, end]]) -> int\n",
      " |      \n",
      " |      Return the number of non-overlapping occurrences of substring sub in\n",
      " |      string S[start:end].  Optional arguments start and end are\n",
      " |      interpreted as in slice notation.\n",
      " |  \n",
      " |  encode(self, /, encoding='utf-8', errors='strict')\n",
      " |      Encode the string using the codec registered for encoding.\n",
      " |      \n",
      " |      encoding\n",
      " |        The encoding in which to encode the string.\n",
      " |      errors\n",
      " |        The error handling scheme to use for encoding errors.\n",
      " |        The default is 'strict' meaning that encoding errors raise a\n",
      " |        UnicodeEncodeError.  Other possible values are 'ignore', 'replace' and\n",
      " |        'xmlcharrefreplace' as well as any other name registered with\n",
      " |        codecs.register_error that can handle UnicodeEncodeErrors.\n",
      " |  \n",
      " |  endswith(...)\n",
      " |      S.endswith(suffix[, start[, end]]) -> bool\n",
      " |      \n",
      " |      Return True if S ends with the specified suffix, False otherwise.\n",
      " |      With optional start, test S beginning at that position.\n",
      " |      With optional end, stop comparing S at that position.\n",
      " |      suffix can also be a tuple of strings to try.\n",
      " |  \n",
      " |  expandtabs(self, /, tabsize=8)\n",
      " |      Return a copy where all tab characters are expanded using spaces.\n",
      " |      \n",
      " |      If tabsize is not given, a tab size of 8 characters is assumed.\n",
      " |  \n",
      " |  find(...)\n",
      " |      S.find(sub[, start[, end]]) -> int\n",
      " |      \n",
      " |      Return the lowest index in S where substring sub is found,\n",
      " |      such that sub is contained within S[start:end].  Optional\n",
      " |      arguments start and end are interpreted as in slice notation.\n",
      " |      \n",
      " |      Return -1 on failure.\n",
      " |  \n",
      " |  format(...)\n",
      " |      S.format(*args, **kwargs) -> str\n",
      " |      \n",
      " |      Return a formatted version of S, using substitutions from args and kwargs.\n",
      " |      The substitutions are identified by braces ('{' and '}').\n",
      " |  \n",
      " |  format_map(...)\n",
      " |      S.format_map(mapping) -> str\n",
      " |      \n",
      " |      Return a formatted version of S, using substitutions from mapping.\n",
      " |      The substitutions are identified by braces ('{' and '}').\n",
      " |  \n",
      " |  index(...)\n",
      " |      S.index(sub[, start[, end]]) -> int\n",
      " |      \n",
      " |      Return the lowest index in S where substring sub is found, \n",
      " |      such that sub is contained within S[start:end].  Optional\n",
      " |      arguments start and end are interpreted as in slice notation.\n",
      " |      \n",
      " |      Raises ValueError when the substring is not found.\n",
      " |  \n",
      " |  isalnum(self, /)\n",
      " |      Return True if the string is an alpha-numeric string, False otherwise.\n",
      " |      \n",
      " |      A string is alpha-numeric if all characters in the string are alpha-numeric and\n",
      " |      there is at least one character in the string.\n",
      " |  \n",
      " |  isalpha(self, /)\n",
      " |      Return True if the string is an alphabetic string, False otherwise.\n",
      " |      \n",
      " |      A string is alphabetic if all characters in the string are alphabetic and there\n",
      " |      is at least one character in the string.\n",
      " |  \n",
      " |  isascii(self, /)\n",
      " |      Return True if all characters in the string are ASCII, False otherwise.\n",
      " |      \n",
      " |      ASCII characters have code points in the range U+0000-U+007F.\n",
      " |      Empty string is ASCII too.\n",
      " |  \n",
      " |  isdecimal(self, /)\n",
      " |      Return True if the string is a decimal string, False otherwise.\n",
      " |      \n",
      " |      A string is a decimal string if all characters in the string are decimal and\n",
      " |      there is at least one character in the string.\n",
      " |  \n",
      " |  isdigit(self, /)\n",
      " |      Return True if the string is a digit string, False otherwise.\n",
      " |      \n",
      " |      A string is a digit string if all characters in the string are digits and there\n",
      " |      is at least one character in the string.\n",
      " |  \n",
      " |  isidentifier(self, /)\n",
      " |      Return True if the string is a valid Python identifier, False otherwise.\n",
      " |      \n",
      " |      Use keyword.iskeyword() to test for reserved identifiers such as \"def\" and\n",
      " |      \"class\".\n",
      " |  \n",
      " |  islower(self, /)\n",
      " |      Return True if the string is a lowercase string, False otherwise.\n",
      " |      \n",
      " |      A string is lowercase if all cased characters in the string are lowercase and\n",
      " |      there is at least one cased character in the string.\n",
      " |  \n",
      " |  isnumeric(self, /)\n",
      " |      Return True if the string is a numeric string, False otherwise.\n",
      " |      \n",
      " |      A string is numeric if all characters in the string are numeric and there is at\n",
      " |      least one character in the string.\n",
      " |  \n",
      " |  isprintable(self, /)\n",
      " |      Return True if the string is printable, False otherwise.\n",
      " |      \n",
      " |      A string is printable if all of its characters are considered printable in\n",
      " |      repr() or if it is empty.\n",
      " |  \n",
      " |  isspace(self, /)\n",
      " |      Return True if the string is a whitespace string, False otherwise.\n",
      " |      \n",
      " |      A string is whitespace if all characters in the string are whitespace and there\n",
      " |      is at least one character in the string.\n",
      " |  \n",
      " |  istitle(self, /)\n",
      " |      Return True if the string is a title-cased string, False otherwise.\n",
      " |      \n",
      " |      In a title-cased string, upper- and title-case characters may only\n",
      " |      follow uncased characters and lowercase characters only cased ones.\n",
      " |  \n",
      " |  isupper(self, /)\n",
      " |      Return True if the string is an uppercase string, False otherwise.\n",
      " |      \n",
      " |      A string is uppercase if all cased characters in the string are uppercase and\n",
      " |      there is at least one cased character in the string.\n",
      " |  \n",
      " |  join(self, iterable, /)\n",
      " |      Concatenate any number of strings.\n",
      " |      \n",
      " |      The string whose method is called is inserted in between each given string.\n",
      " |      The result is returned as a new string.\n",
      " |      \n",
      " |      Example: '.'.join(['ab', 'pq', 'rs']) -> 'ab.pq.rs'\n",
      " |  \n",
      " |  ljust(self, width, fillchar=' ', /)\n",
      " |      Return a left-justified string of length width.\n",
      " |      \n",
      " |      Padding is done using the specified fill character (default is a space).\n",
      " |  \n",
      " |  lower(self, /)\n",
      " |      Return a copy of the string converted to lowercase.\n",
      " |  \n",
      " |  lstrip(self, chars=None, /)\n",
      " |      Return a copy of the string with leading whitespace removed.\n",
      " |      \n",
      " |      If chars is given and not None, remove characters in chars instead.\n",
      " |  \n",
      " |  partition(self, sep, /)\n",
      " |      Partition the string into three parts using the given separator.\n",
      " |      \n",
      " |      This will search for the separator in the string.  If the separator is found,\n",
      " |      returns a 3-tuple containing the part before the separator, the separator\n",
      " |      itself, and the part after it.\n",
      " |      \n",
      " |      If the separator is not found, returns a 3-tuple containing the original string\n",
      " |      and two empty strings.\n",
      " |  \n",
      " |  replace(self, old, new, count=-1, /)\n",
      " |      Return a copy with all occurrences of substring old replaced by new.\n",
      " |      \n",
      " |        count\n",
      " |          Maximum number of occurrences to replace.\n",
      " |          -1 (the default value) means replace all occurrences.\n",
      " |      \n",
      " |      If the optional argument count is given, only the first count occurrences are\n",
      " |      replaced.\n",
      " |  \n",
      " |  rfind(...)\n",
      " |      S.rfind(sub[, start[, end]]) -> int\n",
      " |      \n",
      " |      Return the highest index in S where substring sub is found,\n",
      " |      such that sub is contained within S[start:end].  Optional\n",
      " |      arguments start and end are interpreted as in slice notation.\n",
      " |      \n",
      " |      Return -1 on failure.\n",
      " |  \n",
      " |  rindex(...)\n",
      " |      S.rindex(sub[, start[, end]]) -> int\n",
      " |      \n",
      " |      Return the highest index in S where substring sub is found,\n",
      " |      such that sub is contained within S[start:end].  Optional\n",
      " |      arguments start and end are interpreted as in slice notation.\n",
      " |      \n",
      " |      Raises ValueError when the substring is not found.\n",
      " |  \n",
      " |  rjust(self, width, fillchar=' ', /)\n",
      " |      Return a right-justified string of length width.\n",
      " |      \n",
      " |      Padding is done using the specified fill character (default is a space).\n",
      " |  \n",
      " |  rpartition(self, sep, /)\n",
      " |      Partition the string into three parts using the given separator.\n",
      " |      \n",
      " |      This will search for the separator in the string, starting at the end. If\n",
      " |      the separator is found, returns a 3-tuple containing the part before the\n",
      " |      separator, the separator itself, and the part after it.\n",
      " |      \n",
      " |      If the separator is not found, returns a 3-tuple containing two empty strings\n",
      " |      and the original string.\n",
      " |  \n",
      " |  rsplit(self, /, sep=None, maxsplit=-1)\n",
      " |      Return a list of the words in the string, using sep as the delimiter string.\n",
      " |      \n",
      " |        sep\n",
      " |          The delimiter according which to split the string.\n",
      " |          None (the default value) means split according to any whitespace,\n",
      " |          and discard empty strings from the result.\n",
      " |        maxsplit\n",
      " |          Maximum number of splits to do.\n",
      " |          -1 (the default value) means no limit.\n",
      " |      \n",
      " |      Splits are done starting at the end of the string and working to the front.\n",
      " |  \n",
      " |  rstrip(self, chars=None, /)\n",
      " |      Return a copy of the string with trailing whitespace removed.\n",
      " |      \n",
      " |      If chars is given and not None, remove characters in chars instead.\n",
      " |  \n",
      " |  split(self, /, sep=None, maxsplit=-1)\n",
      " |      Return a list of the words in the string, using sep as the delimiter string.\n",
      " |      \n",
      " |      sep\n",
      " |        The delimiter according which to split the string.\n",
      " |        None (the default value) means split according to any whitespace,\n",
      " |        and discard empty strings from the result.\n",
      " |      maxsplit\n",
      " |        Maximum number of splits to do.\n",
      " |        -1 (the default value) means no limit.\n",
      " |  \n",
      " |  splitlines(self, /, keepends=False)\n",
      " |      Return a list of the lines in the string, breaking at line boundaries.\n",
      " |      \n",
      " |      Line breaks are not included in the resulting list unless keepends is given and\n",
      " |      true.\n",
      " |  \n",
      " |  startswith(...)\n",
      " |      S.startswith(prefix[, start[, end]]) -> bool\n",
      " |      \n",
      " |      Return True if S starts with the specified prefix, False otherwise.\n",
      " |      With optional start, test S beginning at that position.\n",
      " |      With optional end, stop comparing S at that position.\n",
      " |      prefix can also be a tuple of strings to try.\n",
      " |  \n",
      " |  strip(self, chars=None, /)\n",
      " |      Return a copy of the string with leading and trailing whitespace remove.\n",
      " |      \n",
      " |      If chars is given and not None, remove characters in chars instead.\n",
      " |  \n",
      " |  swapcase(self, /)\n",
      " |      Convert uppercase characters to lowercase and lowercase characters to uppercase.\n",
      " |  \n",
      " |  title(self, /)\n",
      " |      Return a version of the string where each word is titlecased.\n",
      " |      \n",
      " |      More specifically, words start with uppercased characters and all remaining\n",
      " |      cased characters have lower case.\n",
      " |  \n",
      " |  translate(self, table, /)\n",
      " |      Replace each character in the string using the given translation table.\n",
      " |      \n",
      " |        table\n",
      " |          Translation table, which must be a mapping of Unicode ordinals to\n",
      " |          Unicode ordinals, strings, or None.\n",
      " |      \n",
      " |      The table must implement lookup/indexing via __getitem__, for instance a\n",
      " |      dictionary or list.  If this operation raises LookupError, the character is\n",
      " |      left untouched.  Characters mapped to None are deleted.\n",
      " |  \n",
      " |  upper(self, /)\n",
      " |      Return a copy of the string converted to uppercase.\n",
      " |  \n",
      " |  zfill(self, width, /)\n",
      " |      Pad a numeric string with zeros on the left, to fill a field of the given width.\n",
      " |      \n",
      " |      The string is never truncated.\n",
      " |  \n",
      " |  ----------------------------------------------------------------------\n",
      " |  Static methods defined here:\n",
      " |  \n",
      " |  __new__(*args, **kwargs) from builtins.type\n",
      " |      Create and return a new object.  See help(type) for accurate signature.\n",
      " |  \n",
      " |  maketrans(x, y=None, z=None, /)\n",
      " |      Return a translation table usable for str.translate().\n",
      " |      \n",
      " |      If there is only one argument, it must be a dictionary mapping Unicode\n",
      " |      ordinals (integers) or characters to Unicode ordinals, strings or None.\n",
      " |      Character keys will be then converted to ordinals.\n",
      " |      If there are two arguments, they must be strings of equal length, and\n",
      " |      in the resulting dictionary, each character in x will be mapped to the\n",
      " |      character at the same position in y. If there is a third argument, it\n",
      " |      must be a string, whose characters will be mapped to None in the result.\n",
      "\n"
     ]
    }
   ],
   "source": [
    "help(str)"
   ]
  },
  {
   "cell_type": "markdown",
   "metadata": {},
   "source": [
    "<div class = \"alert alert-block alert-info\" >\n",
    "\n",
    "<h2><center>EXERCISES</center></h2>"
   ]
  },
  {
   "cell_type": "markdown",
   "metadata": {},
   "source": [
    "***1. Calculating AT content***\n",
    "\n",
    "Here's a short DNA sequence:\n",
    "ACTGATCGATTACGTATAGTATTTGCTATCATACATATATATCGATGCGTTCAT\n",
    "\n",
    "Write a program that will print out the AT content of this DNA sequence. \n",
    "Hint: you can use normal mathematical symbols like add (+), subtract (-), multiply (*), divide\n",
    "(/) and parentheses to carry out calculations on numbers in Python."
   ]
  },
  {
   "cell_type": "code",
   "execution_count": 105,
   "metadata": {},
   "outputs": [
    {
     "name": "stdout",
     "output_type": "stream",
     "text": [
      "68.51851851851852\n"
     ]
    }
   ],
   "source": [
    "my_sequence = \"ACTGATCGATTACGTATAGTATTTGCTATCATACATATATATCGATGCGTTCAT\"\n",
    "\n",
    "count_As = my_sequence.count(\"A\")\n",
    "count_Ts = my_sequence.count(\"T\")\n",
    "#AT_count = count_As + count_Ts\n",
    "length_seq = len(my_sequence)\n",
    "\n",
    "# To know the ratio of the combined As and Ts in your sequence:\n",
    "\n",
    "AT_perc = ((count_As + count_Ts)/length_seq)*100\n",
    "\n",
    "print (AT_perc)\n"
   ]
  },
  {
   "cell_type": "markdown",
   "metadata": {},
   "source": [
    "**_2. Complementing DNA_**\n",
    "\n",
    "Here's a short DNA sequence:\n",
    "ACTGATCGATTACGTATAGTATTTGCTATCATACATATATATCGATGCGTTCAT\n",
    "\n",
    "\n",
    "Write a program that will print the complement of this sequence."
   ]
  },
  {
   "cell_type": "code",
   "execution_count": 107,
   "metadata": {},
   "outputs": [
    {
     "name": "stdout",
     "output_type": "stream",
     "text": [
      "tgactagctaatgcatatcataaacgatagtatgtatatatagctacgcaagta\n",
      "ACTGATCGATTACGTATAGTATTTGCTATCATACATATATATCGATGCGTTCAT\n",
      "TGACTAGCTAATGCATATCATAAACGATAGTATGTATATATAGCTACGCAAGTA\n"
     ]
    }
   ],
   "source": [
    "# replace them all with small letters, \n",
    "# so that they don't keep replacing the nucleotides that were already replaced\n",
    "\n",
    "my_sequence = \"ACTGATCGATTACGTATAGTATTTGCTATCATACATATATATCGATGCGTTCAT\"\n",
    "\n",
    "replacement_1 = my_sequence.replace(\"A\", \"t\")\n",
    "\n",
    "replacement_2 = replacement_1.replace(\"C\", \"g\")\n",
    "\n",
    "replacement_3 = replacement_2.replace(\"T\", \"a\")\n",
    "\n",
    "replacement_4 = replacement_3.replace(\"G\", \"c\")\n",
    "\n",
    "print(replacement_4)\n",
    "my_complement = replacement_4.upper()\n",
    "\n",
    "print(my_sequence)\n",
    "print(my_complement)\n",
    "\n"
   ]
  },
  {
   "cell_type": "markdown",
   "metadata": {},
   "source": [
    "**_3. Restriction fragment lengths_**\n",
    "\n",
    "Here's a short DNA sequence:\n",
    "ACTGATCGATTACGTATAGTAGAATTCTATCATACATATATATCGATGCGTTCAT\n",
    "\n",
    "\n",
    "The sequence contains a recognition site for the EcoRI restriction enzyme, which\n",
    "cuts at the motif G*AATTC (the position of the cut is indicated by an asterisk).\n",
    "Write a program which will calculate the size of the two fragments that will be\n",
    "produced when the DNA sequence is digested with EcoRI.\n"
   ]
  },
  {
   "cell_type": "code",
   "execution_count": 108,
   "metadata": {},
   "outputs": [
    {
     "name": "stdout",
     "output_type": "stream",
     "text": [
      "2\n"
     ]
    }
   ],
   "source": [
    "\n",
    "# I like to first start with a tester\n",
    "\n",
    "# What are my steps?:\n",
    "# 1. I need to be able to find this sequence,\n",
    "#    and its position in the dna:                               .find()\n",
    "# 2. In order to know the length of 2nd fragments, \n",
    "#    I need to know the length of the entire DNA sequence       .len()\n",
    "\n",
    "test_sequence = \"TAGAATTCTA\"\n",
    "position_1st_fragm = test_sequence.find(\"GAATTC\")\n",
    "print(position_1st_fragm)\n",
    "\n"
   ]
  },
  {
   "cell_type": "code",
   "execution_count": 109,
   "metadata": {},
   "outputs": [
    {
     "name": "stdout",
     "output_type": "stream",
     "text": [
      "3\n"
     ]
    }
   ],
   "source": [
    "# note that becaue the positions start at 0, \n",
    "# you have to add \"1\" to make sure the math is correct\n",
    "len_1st_fragment = position_1st_fragm + 1 \n",
    "print(len_1st_fragment)\n"
   ]
  },
  {
   "cell_type": "code",
   "execution_count": 111,
   "metadata": {},
   "outputs": [
    {
     "name": "stdout",
     "output_type": "stream",
     "text": [
      "10\n",
      "7\n"
     ]
    }
   ],
   "source": [
    "\n",
    "len_test_seq = len(test_sequence)\n",
    "print(len_test_seq)\n",
    "\n",
    "\n",
    "len_2nd_fragment = len_test_seq - len_1st_fragment \n",
    "print(len_2nd_fragment)\n",
    "\n",
    "# Now that I know this is working, I just apply it to my real sequence"
   ]
  },
  {
   "cell_type": "code",
   "execution_count": null,
   "metadata": {},
   "outputs": [],
   "source": [
    "my_sequence = \"ACTGATCGATTACGTATAGTAGAATTCTATCATACATATATATCGATGCGTTCAT\"\n",
    "\n",
    "position_1st_fragm = my_sequence.find(\"GAATTC\")\n",
    "len_1st_fragment = position_1st_fragm + 1 \n",
    "print(len_1st_fragment)\n",
    "\n",
    "length_my_sequence = len(my_sequence)\n",
    "print(length_my_sequence)\n",
    "\n",
    "len_2nd_fragment = length_my_sequence - len_1st_fragment \n",
    "print(len_2nd_fragment)\n",
    "\n"
   ]
  },
  {
   "cell_type": "markdown",
   "metadata": {},
   "source": [
    "**_4. Splicing out introns, part one_**\n",
    "\n",
    "Here's a short section of genomic DNA:\n",
    "ATCGATCGATCGATCGACTGACTAGTCATAGCTATGCATGTAGCTACTCGATCGATCGATCGATCGATCGATCGATCGATCGATCATGCTATCATCGATCGATATCGATGCATCACTACTAT\n",
    "\n",
    "\n",
    "It comprises two exons and an intron. \n",
    "The first exon runs from the start of the sequence to the sixty-third character, \n",
    "and the second exon runs from the ninety-first character to the end of the sequence. \n",
    "Write a program that will print just the coding regions of the DNA sequence."
   ]
  },
  {
   "cell_type": "code",
   "execution_count": 112,
   "metadata": {},
   "outputs": [
    {
     "name": "stdout",
     "output_type": "stream",
     "text": [
      "ATC\n"
     ]
    }
   ],
   "source": [
    "# to make sure that I don't get confused about the positions of the characters\n",
    "# I'm going to create a test sequence\n",
    "# If this question had said that the first exon was from the start to the 4th character, \n",
    "# what would that look like?\n",
    "# Make sure that you understand whether they mean the 4th character from a coder's view\n",
    "# or from a non-programmer's view\n",
    "# Here they mean up until, but NOT INCLUDING the 4th character (coder's view)\n",
    "# In other words, print the first three characters from a non-coder's view\n",
    "\n",
    "\n",
    "test_seq = \"ATCGAAAACTTT\"\n",
    "\n",
    "# length_test_seq = len(test_seq)\n",
    "# print(length_test_seq)\n",
    "\n",
    "\n",
    "test_first_exon = test_seq[:3] \n",
    "print(test_first_exon)\n"
   ]
  },
  {
   "cell_type": "markdown",
   "metadata": {},
   "source": [
    "> So how will I slice from the start and **UP to and EXCLUDING** character 4?\n",
    "\n",
    "> This means, we need to stop at the first 'C'\n",
    "\n",
    "> So in the real problem, they want to print 63 characters. Since we start at position 0,\n",
    "\n",
    "> I know that I'm going to use \"62\" in the real problem \n",
    "\n",
    "> Because it will print from position 0 -> 61, which is 62 characters"
   ]
  },
  {
   "cell_type": "code",
   "execution_count": 113,
   "metadata": {},
   "outputs": [
    {
     "name": "stdout",
     "output_type": "stream",
     "text": [
      "CTTT\n"
     ]
    }
   ],
   "source": [
    "\n",
    "# so if the second exon ran from the 9th position to the end, how will I slice that?\n",
    "# it looks like the last \"C\" is the 9th character, and it lies at position \"8\"\n",
    "# which makes sense, because again, we start indexing at 0\n",
    "\n",
    "test_seq = \"ATCGAAAACTTT\"\n",
    "test_last_exon = test_seq[8:] \n",
    "\n",
    "# so now I know that I will have to use the \"90th\" position \n",
    "# in the real problem\n",
    "\n",
    "# Can you see why it's good to start with a test set??\n",
    "\n",
    "print(test_last_exon)\n"
   ]
  },
  {
   "cell_type": "code",
   "execution_count": 114,
   "metadata": {},
   "outputs": [
    {
     "name": "stdout",
     "output_type": "stream",
     "text": [
      "ATCGATCGATCGATCGACTGACTAGTCATAGCTATGCATGTAGCTACTCGATCGATCGATCGATCATCGATCGATATCGATGCATCACTACTAT\n",
      "94\n"
     ]
    }
   ],
   "source": [
    "my_dna = \"ATCGATCGATCGATCGACTGACTAGTCATAGCTATGCATGTAGCTACTCGATCGATCGATCGATCGATCGATCGATCGATCGATCATGCTATCATCGATCGATATCGATGCATCACTACTAT\"\n",
    "\n",
    "# Again, the person mentions up until, but not including, the 63rd character\n",
    "# They mean that they only want 62 characters to be PRINTED. \n",
    "# At least this is how a non-programmer would say it\n",
    "# Since indexing starts at 0\n",
    "# 0 to 61 will be 62 characters\n",
    "# Don't be alarmed if you got confused here. \n",
    "# This is just an example of how you need to make sure,\n",
    "# That you and the other person are on the same page\n",
    "\n",
    "first_exon = my_dna[:62] # this is index 0 - 61\n",
    "#print (len(first_exon))\n",
    "last_exon = my_dna[90:] # this is index 90 - infinity\n",
    "#print (len(last_exon))\n",
    "\n",
    "#finally I must concatenate the exons\n",
    "\n",
    "combined_exons = first_exon + last_exon\n",
    "\n",
    "print(combined_exons)\n",
    "print(len(combined_exons))\n"
   ]
  },
  {
   "cell_type": "markdown",
   "metadata": {},
   "source": [
    "**_5. Splicing out introns, part two_**\n",
    "\n",
    "Using the data from part one, write a program that will calculate what percentage\n",
    "of the DNA sequence is coding.\n",
    "\n"
   ]
  },
  {
   "cell_type": "code",
   "execution_count": 116,
   "metadata": {},
   "outputs": [
    {
     "name": "stdout",
     "output_type": "stream",
     "text": [
      "77\n"
     ]
    }
   ],
   "source": [
    "my_dna = \"ATCGATCGATCGATCGACTGACTAGTCATAGCTATGCATGTAGCTACTCGATCGATCGATCGATCGATCGATCGATCGATCGATCATGCTATCATCGATCGATATCGATGCATCACTACTAT\"\n",
    "\n",
    "\n",
    "length_my_dna = len(my_dna)\n",
    "percent_CDS = (len(combined_exons)/length_my_dna)*100\n",
    "print (round(percent_CDS))"
   ]
  },
  {
   "cell_type": "markdown",
   "metadata": {},
   "source": [
    "**_6. Splicing out introns, part three_**\n",
    "\n",
    "Using the data from part one, write a program that will print out the original\n",
    "genomic DNA sequence with coding bases in uppercase and non-coding bases in\n",
    "lowercase."
   ]
  },
  {
   "cell_type": "code",
   "execution_count": 118,
   "metadata": {},
   "outputs": [
    {
     "name": "stdout",
     "output_type": "stream",
     "text": [
      "aaaa\n",
      "ATCaaaaCTTT\n"
     ]
    }
   ],
   "source": [
    "# let's go back to testing with my test sequence first\n",
    "# The intron lies from the 5th character to the 8th character\n",
    "# In splicing terms it will start at index 4, which is position 5, \n",
    "# up until the index before 8, which is the 8th character, \n",
    "# if we start from zero\n",
    "\n",
    "intron = (test_seq[4:8]).lower()\n",
    "print(intron)\n",
    "\n",
    "comb_exons_introns = test_first_exon + intron + test_last_exon\n",
    "print(comb_exons_introns)\n",
    "\n",
    "\n",
    "# now I can apply it to mine\n"
   ]
  },
  {
   "cell_type": "markdown",
   "metadata": {},
   "source": [
    "<div class=\"alert alert-block alert-danger\">\n",
    "\n",
    "> You need to **PRACTICE** to get the hang of this.\n",
    "\n",
    "> Don't be alarmed if it's confusing at the start.\n",
    "\n",
    "> Have a look at the picture again at the beginning that shows the indexing."
   ]
  },
  {
   "cell_type": "code",
   "execution_count": 117,
   "metadata": {},
   "outputs": [
    {
     "name": "stdout",
     "output_type": "stream",
     "text": [
      "ATCGATCGATCGATCGACTGACTAGTCATAGCTATGCATGTAGCTACTCGATCGATCGATCGatcgatcgatcgatcgatcgatcatgctATCATCGATCGATATCGATGCATCACTACTAT\n"
     ]
    }
   ],
   "source": [
    "intron = (my_dna[62:90]).lower() # this is from index/position 62 - 89\n",
    "modified_dna = first_exon + intron + last_exon\n",
    "\n",
    "print(modified_dna)"
   ]
  },
  {
   "cell_type": "markdown",
   "metadata": {},
   "source": [
    "<div class = \"alert alert-block alert-info\" >\n",
    "\n",
    "<h2><center>BioPython</center></h2>\n",
    "\n",
    "\n",
    "\n",
    "> We can use BioPython to do some of the tasks that we did manually\n",
    "\n",
    "> Find the **[Link to the BioPython tutorial and cookbook below]**  \n",
    "<a href=http://biopython.org/DIST/docs/tutorial/Tutorial.html>BioPython Tutorial</a>\n",
    "\n",
    "\n",
    "\n"
   ]
  },
  {
   "cell_type": "code",
   "execution_count": 119,
   "metadata": {},
   "outputs": [
    {
     "data": {
      "text/plain": [
       "46.875"
      ]
     },
     "execution_count": 119,
     "metadata": {},
     "output_type": "execute_result"
    }
   ],
   "source": [
    "# There is a BioPython library for calculating GC content..\n",
    "# Since it's pretty common task for Biologist\n",
    "\n",
    "from Bio.Seq import Seq\n",
    "from Bio.SeqUtils import GC\n",
    "my_seq = Seq(\"GATCGATGGGCCTATATAGGATCGAAAATCGC\")\n",
    "GC(my_seq)"
   ]
  },
  {
   "cell_type": "code",
   "execution_count": 120,
   "metadata": {},
   "outputs": [
    {
     "data": {
      "text/plain": [
       "Seq('CTAGCTACCCGGATATATCCTAGCTTTTAGCG')"
      ]
     },
     "execution_count": 120,
     "metadata": {},
     "output_type": "execute_result"
    }
   ],
   "source": [
    "# Get the complement of a DNA sequence\n",
    "\n",
    "from Bio.Seq import Seq\n",
    "my_seq = Seq(\"GATCGATGGGCCTATATAGGATCGAAAATCGC\")\n",
    "my_seq.complement()"
   ]
  },
  {
   "cell_type": "code",
   "execution_count": 121,
   "metadata": {},
   "outputs": [
    {
     "data": {
      "text/plain": [
       "Seq('GCGATTTTCGATCCTATATAGGCCCATCGATC')"
      ]
     },
     "execution_count": 121,
     "metadata": {},
     "output_type": "execute_result"
    }
   ],
   "source": [
    "my_seq.reverse_complement()\n"
   ]
  },
  {
   "cell_type": "code",
   "execution_count": 95,
   "metadata": {},
   "outputs": [
    {
     "data": {
      "text/plain": [
       "Seq('CTATCGGGCACCCTTTCAGCGGCCCATTACAATGGCCAT')"
      ]
     },
     "execution_count": 95,
     "metadata": {},
     "output_type": "execute_result"
    }
   ],
   "source": [
    "# Reverse complement coding sequences (CDS)\n",
    "\n",
    "from Bio.Seq import Seq\n",
    "coding_dna = Seq(\"ATGGCCATTGTAATGGGCCGCTGAAAGGGTGCCCGATAG\")\n",
    "template_dna = coding_dna.reverse_complement()\n",
    "template_dna\n"
   ]
  },
  {
   "cell_type": "code",
   "execution_count": 122,
   "metadata": {},
   "outputs": [
    {
     "data": {
      "text/plain": [
       "Seq('AUGGCCAUUGUAAUGGGCCGCUGAAAGGGUGCCCGAUAG')"
      ]
     },
     "execution_count": 122,
     "metadata": {},
     "output_type": "execute_result"
    }
   ],
   "source": [
    "# Transcribe CDS\n",
    "messenger_rna = coding_dna.transcribe()\n",
    "messenger_rna"
   ]
  },
  {
   "cell_type": "code",
   "execution_count": 96,
   "metadata": {},
   "outputs": [
    {
     "data": {
      "text/plain": [
       "Seq('MAIVMGR*KGAR*')"
      ]
     },
     "execution_count": 96,
     "metadata": {},
     "output_type": "execute_result"
    }
   ],
   "source": [
    "# Translate mRNA\n",
    "\n",
    "messenger_rna = Seq(\"AUGGCCAUUGUAAUGGGCCGCUGAAAGGGUGCCCGAUAG\")\n",
    "translated_mRNA = messenger_rna.translate()\n",
    "translated_mRNA\n"
   ]
  },
  {
   "cell_type": "code",
   "execution_count": 97,
   "metadata": {},
   "outputs": [
    {
     "data": {
      "text/plain": [
       "Seq('MAIVMGRWKGAR*')"
      ]
     },
     "execution_count": 97,
     "metadata": {},
     "output_type": "execute_result"
    }
   ],
   "source": [
    "# some translations are unresolved\n",
    "# So you might need to specify the use of the correct Translation table\n",
    "\n",
    "translated_mRNA = coding_dna.translate(table=\"Vertebrate Mitochondrial\")\n",
    "translated_mRNA"
   ]
  },
  {
   "cell_type": "code",
   "execution_count": 98,
   "metadata": {},
   "outputs": [
    {
     "data": {
      "text/plain": [
       "Seq('MAIVMGRWKGAR')"
      ]
     },
     "execution_count": 98,
     "metadata": {},
     "output_type": "execute_result"
    }
   ],
   "source": [
    "# Now, you may want to translate the nucleotides \n",
    "# up to the first in frame stop codon\n",
    "# and then stop (as happens in nature)\n",
    "\n",
    "translated_mRNA =  coding_dna.translate(table =  \"Vertebrate Mitochondrial\", to_stop=True)\n",
    "translated_mRNA"
   ]
  },
  {
   "cell_type": "markdown",
   "metadata": {},
   "source": [
    "<div class = \"alert alert-block alert-info\" >\n",
    "\n",
    "<h2><center>THE END</center></h2>"
   ]
  }
 ],
 "metadata": {
  "kernelspec": {
   "display_name": "Python 3",
   "language": "python",
   "name": "python3"
  },
  "language_info": {
   "codemirror_mode": {
    "name": "ipython",
    "version": 3
   },
   "file_extension": ".py",
   "mimetype": "text/x-python",
   "name": "python",
   "nbconvert_exporter": "python",
   "pygments_lexer": "ipython3",
   "version": "3.7.3"
  }
 },
 "nbformat": 4,
 "nbformat_minor": 2
}
