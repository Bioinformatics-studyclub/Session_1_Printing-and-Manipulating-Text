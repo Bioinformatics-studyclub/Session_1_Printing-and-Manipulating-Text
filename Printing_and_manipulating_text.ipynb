{
 "cells": [
  {
   "cell_type": "markdown",
   "metadata": {},
   "source": [
    "\n",
    "<h1><center><ins>Working with Numbers and Strings</ins></center></h1>\n",
    "\n",
    "\n",
    "    "
   ]
  },
  {
   "cell_type": "markdown",
   "metadata": {},
   "source": [
    "<div class = \"alert alert-block alert-info\">\n",
    "    \n",
    "> In programming a distinction is made between **numbers** and **text**. \n",
    "\n",
    "> A number can be printed as is. \n",
    "\n",
    "> A string is a bunch of text characters \n",
    "\n",
    "> and to distinguish **text** from **numbers** \n",
    "\n",
    "> we surround it with a **quotes**\n",
    "\n",
    "\n",
    "Let's print some numbers and strings\n"
   ]
  },
  {
   "cell_type": "code",
   "execution_count": null,
   "metadata": {},
   "outputs": [],
   "source": [
    "1 + 5"
   ]
  },
  {
   "cell_type": "code",
   "execution_count": null,
   "metadata": {},
   "outputs": [],
   "source": [
    "# this will either give an error or only read the last line (depending on your IDE)\n",
    "\n",
    "1 + 5 \n",
    "+ 3"
   ]
  },
  {
   "cell_type": "code",
   "execution_count": null,
   "metadata": {},
   "outputs": [],
   "source": [
    "# you may use brackets to show that you are not done with your statement\n",
    "\n",
    "(1 + 5 \n",
    "+ 3)"
   ]
  },
  {
   "cell_type": "code",
   "execution_count": null,
   "metadata": {},
   "outputs": [],
   "source": [
    "# you may also use an escape character \"\\\"\n",
    "# to show that you are not done with your statement\n",
    "\n",
    "1 + 5 \\\n",
    " + 3"
   ]
  },
  {
   "cell_type": "markdown",
   "metadata": {},
   "source": [
    "<div class=\"alert alert-block alert-danger\">\n",
    "\n",
    "\n",
    "<h1><center>Warning!!</center></h1>\n",
    "\n",
    "> Be careful what follows the `\"\\\"`\n",
    "\n",
    "> Because there are also special characters, such as:\n",
    "\n",
    "> `\\n` = new line\n",
    "\n",
    "> `\\t`  = tab\n",
    "\n",
    "> ....etc.\n",
    "\n",
    "> This may make your code do someting you did not intend"
   ]
  },
  {
   "cell_type": "markdown",
   "metadata": {},
   "source": [
    "<div class = \"alert alert-block alert-info\">\n",
    "\n",
    "### Some Python operations include: \n",
    "\n",
    "\n",
    "| Symbol\t| Task Performed |\n",
    "|-----------|  ---------     |\n",
    "|+\t        | Addition       |\n",
    "|-\t        | Subtraction    |\n",
    "|/          | division       |\n",
    "|%\t        | modulo         | \n",
    "|*\t        | multiplication |\n",
    "|//         | floor division | \n",
    "|**         | to the power of|\n",
    "\n",
    "\n",
    "\n",
    "> ` Note that some of these can be used with strings and numbers`\n",
    "\n",
    "> ` Other mathematical and statistical operations may be imported using Python libraries`\n"
   ]
  },
  {
   "cell_type": "code",
   "execution_count": null,
   "metadata": {},
   "outputs": [],
   "source": [
    "# this output a float, because it gives a decimal number \n",
    "\n",
    "10/4\n",
    " "
   ]
  },
  {
   "cell_type": "code",
   "execution_count": null,
   "metadata": {},
   "outputs": [],
   "source": [
    "# Floor (//)\n",
    "# Formal definition:the largest integer, that is not greater than the result of the division\n",
    "# Similar to rounding DOWN\n",
    "\n",
    "10 // 4"
   ]
  },
  {
   "cell_type": "code",
   "execution_count": null,
   "metadata": {},
   "outputs": [],
   "source": [
    "round (10/4)"
   ]
  },
  {
   "cell_type": "code",
   "execution_count": null,
   "metadata": {},
   "outputs": [],
   "source": [
    "import Jamie_Oliver_library as JOL\n",
    "\n",
    "Jamie_Oliver_library.microwave(pasta)\n",
    "JOL.microwave(pasta)\n",
    "\n",
    "Jamie_Oliver_library.spoon(ice-cream)"
   ]
  },
  {
   "cell_type": "code",
   "execution_count": null,
   "metadata": {},
   "outputs": [],
   "source": [
    "# we can also import a Math library\n",
    "# which gives us additional capabilities\n",
    "\n",
    "import math \n",
    "\n",
    "math.floor(10/4) # rounds down"
   ]
  },
  {
   "cell_type": "code",
   "execution_count": null,
   "metadata": {},
   "outputs": [],
   "source": [
    "math.ceil(10/4) #rounds up"
   ]
  },
  {
   "cell_type": "code",
   "execution_count": null,
   "metadata": {},
   "outputs": [],
   "source": [
    "# returns the remainder after division\n",
    "\n",
    "10%4 # 10 /4  = 8 , with a remainder of 2"
   ]
  },
  {
   "cell_type": "code",
   "execution_count": null,
   "metadata": {},
   "outputs": [],
   "source": [
    "10%3 # 10 /3  = 9 , with a remainder of 1"
   ]
  },
  {
   "cell_type": "markdown",
   "metadata": {},
   "source": [
    "<div class = \"alert alert-block alert-info\">\n",
    "\n",
    "> Note that any decimal number is called a float  \n",
    "\n",
    "> A non-decimal number is an integer\n",
    "\n",
    "> To convert between number types\n",
    "\n",
    "> You may use the built-in functions\n",
    "\n",
    ">  `int ()`  and `float()`"
   ]
  },
  {
   "cell_type": "code",
   "execution_count": null,
   "metadata": {},
   "outputs": [],
   "source": [
    "# e.g.\n",
    "# convert float to integer\n",
    "# convert 2.5 to 2\n",
    "\n",
    "# Using int ()\n",
    "\n",
    "int(2.5)"
   ]
  },
  {
   "cell_type": "code",
   "execution_count": null,
   "metadata": {},
   "outputs": [],
   "source": [
    "# convert integer to float \n",
    "# convert 2 to 2.0\n",
    "\n",
    "# Using float ( )\n",
    "\n",
    "float (2)"
   ]
  },
  {
   "cell_type": "markdown",
   "metadata": {},
   "source": [
    "<div class = \"alert alert-block alert-info\" >\n",
    "\n",
    "> But you can also turn numbers into text\n",
    "\n",
    "> Although its use might not be immediately apparent"
   ]
  },
  {
   "cell_type": "code",
   "execution_count": null,
   "metadata": {},
   "outputs": [],
   "source": [
    "# note that no math is being done. This is now a string\n",
    "\n",
    "'1 + 5' "
   ]
  },
  {
   "cell_type": "code",
   "execution_count": null,
   "metadata": {},
   "outputs": [],
   "source": [
    "#these two are not the same\n",
    "1 + 5\n",
    "str(1 + 5)"
   ]
  },
  {
   "cell_type": "markdown",
   "metadata": {},
   "source": [
    "<div class = \"alert alert-block alert-info\">\n",
    "    \n",
    "> Although the above statement doesn't give an error \n",
    "    \n",
    "> This only really works in this way in Jupyter \n",
    "\n",
    "> It's better to do it properly \n",
    "\n",
    "> Using the print function "
   ]
  },
  {
   "cell_type": "code",
   "execution_count": null,
   "metadata": {},
   "outputs": [],
   "source": [
    "# print () is a function, which accepts an argument inside the brackets\n",
    "print()"
   ]
  },
  {
   "cell_type": "code",
   "execution_count": null,
   "metadata": {},
   "outputs": [],
   "source": [
    "print ('1 + 5')"
   ]
  },
  {
   "cell_type": "markdown",
   "metadata": {},
   "source": [
    "<div class = \"alert alert-block alert-info\" >    \n",
    "    \n",
    "> Note that you have to use <ins> **BRACKETS** </ins> and you have to use <ins> **QUOTES** </ins>"
   ]
  },
  {
   "cell_type": "code",
   "execution_count": null,
   "metadata": {},
   "outputs": [],
   "source": [
    "print (I am learning to code)"
   ]
  },
  {
   "cell_type": "code",
   "execution_count": null,
   "metadata": {},
   "outputs": [],
   "source": [
    "print (\"I am learning to code\") # this entire line is called a STATEMENT\n"
   ]
  },
  {
   "cell_type": "code",
   "execution_count": null,
   "metadata": {},
   "outputs": [],
   "source": [
    "print ('I am learning to code') # to print strings, you may use single or double quotes"
   ]
  },
  {
   "cell_type": "markdown",
   "metadata": {},
   "source": [
    "<div class = \"alert alert-block alert-info\">\n",
    "\n",
    "> Normally we assign strings and numbers to <ins> **variables** </ins> \n",
    "\n",
    "> A variable is like a file or folder that hold your important information\n",
    "\n",
    "> Normally, you would name your file or folder in such a way \n",
    "\n",
    "> That is is easy for you to know what is kept inside it \n",
    "\n",
    "> By looking at the file or folder name "
   ]
  },
  {
   "cell_type": "code",
   "execution_count": null,
   "metadata": {},
   "outputs": [],
   "source": [
    "first_number = 1\n",
    "second_number = 2\n",
    "add_two_numbers = first_number + second_number\n",
    "# note that this last statement will NOT print\n",
    "# unless you explicitly use the print function"
   ]
  },
  {
   "cell_type": "code",
   "execution_count": null,
   "metadata": {},
   "outputs": [],
   "source": [
    "print (add_two_numbers)"
   ]
  },
  {
   "cell_type": "markdown",
   "metadata": {},
   "source": [
    "<div class = \"alert alert-block alert-info\">\n",
    "\n",
    "### Rules for Choosing Variable Names\n",
    "\n",
    "> * No spaces or tabs at the start of the variable name OR in between the variable name, e.g. `first number`\n",
    "\n",
    "\n",
    "> * Indentation matters in Python, so start at the start of the line\n",
    "\n",
    "\n",
    "> * You may use built-in Python words or booleans # e.g. `print` or `True`\n",
    "\n",
    "\n",
    "> * When you use a variable name twice, it takes the new value\n",
    "\n",
    "\n",
    "> * If you use `#` at the start of the line, the line will not be executed. It's a signal to say: \"I just want to leave a comment.\"\n",
    "\n",
    "\n",
    "> * Use a meaningful names, so that your code is easy to read"
   ]
  },
  {
   "cell_type": "code",
   "execution_count": null,
   "metadata": {},
   "outputs": [],
   "source": [
    "my_dna = \"ATGCGTA\" # you have now assigned a sequence of DNA to your variable name `my_dna`\n",
    "print (my_dna)\n"
   ]
  },
  {
   "cell_type": "code",
   "execution_count": null,
   "metadata": {},
   "outputs": [],
   "source": [
    "my_dna = \"TGGTCCA\" # if you use the same variable name, your first sequence is now lost\n",
    "print (my_dna)"
   ]
  },
  {
   "cell_type": "code",
   "execution_count": null,
   "metadata": {},
   "outputs": [],
   "source": [
    "print (my_dna)"
   ]
  },
  {
   "cell_type": "markdown",
   "metadata": {},
   "source": [
    "<div class = \"alert alert-block alert-info\">\n",
    "\n",
    "<h2><center>Concatenation and Multiplication</center></h2>"
   ]
  },
  {
   "cell_type": "code",
   "execution_count": null,
   "metadata": {},
   "outputs": [],
   "source": [
    "dna_1 = \"ATGCGTA\"\n",
    "dna_2 = \"TGGTCCA\"\n",
    "\n",
    "add_dna1_dna2 = dna_1 + dna_2 \n",
    "\n",
    "print (add_dna1_dna2)\n"
   ]
  },
  {
   "cell_type": "code",
   "execution_count": null,
   "metadata": {},
   "outputs": [],
   "source": [
    "poly_A_tail = \"AAA\"*3\n",
    "\n",
    "print (poly_A_tail)"
   ]
  },
  {
   "cell_type": "markdown",
   "metadata": {},
   "source": [
    "<div class = \"alert alert-block alert-info\" >\n",
    "\n",
    "<h2><center>The <code>len ()</code> Function</center></h2>"
   ]
  },
  {
   "cell_type": "code",
   "execution_count": null,
   "metadata": {},
   "outputs": [],
   "source": [
    "# What is the length of your DNA sequence\n",
    "len(dna_1) \n"
   ]
  },
  {
   "cell_type": "code",
   "execution_count": null,
   "metadata": {},
   "outputs": [],
   "source": [
    "len(add_dna1_dna2)"
   ]
  },
  {
   "cell_type": "code",
   "execution_count": null,
   "metadata": {},
   "outputs": [],
   "source": [
    "# this will give an error\n",
    "\n",
    "print (\"The length of my 1st dna sequence\" + dna_1 + \"is:\" +  len(dna_1))\n",
    "\n",
    "# you cannot mix numbers and strings when printing\n",
    "# By using concatenation (\"+\"), you do not solve the problem of mixing the two\n",
    "# Also, contatenation leaves no spaces between the things you are trying to print\n",
    "# For an example, look at block 124 (two blocks down)"
   ]
  },
  {
   "cell_type": "code",
   "execution_count": null,
   "metadata": {},
   "outputs": [],
   "source": [
    "# using a comma\n",
    "\n",
    "print (\"The length of my dna sequence\", dna_1, \"is:\",  len(dna_1))"
   ]
  },
  {
   "cell_type": "code",
   "execution_count": null,
   "metadata": {},
   "outputs": [],
   "source": [
    "# str() is another built in function to convert a number to a string\n",
    "\n",
    "print (\"The length of my dna sequence\", dna_1, \"is:\" +  str(len(dna_1)))"
   ]
  },
  {
   "cell_type": "code",
   "execution_count": null,
   "metadata": {},
   "outputs": [],
   "source": [
    "\n",
    "string_of_length_dna_1 = str(len(dna_1))\n",
    "\n",
    "print (\"The length of my dna sequence\" + dna_1 +  \"is:\" +  string_of_length_dna_1)\n",
    "# note that when using commas, a space is automatically inserted, but not when using a \"+\""
   ]
  },
  {
   "cell_type": "code",
   "execution_count": null,
   "metadata": {},
   "outputs": [],
   "source": [
    "# %s\n",
    "\n",
    "print (\"The length of my dna sequence\", dna_1, \"is: %s\"  %len(dna_1))\n",
    "\n"
   ]
  },
  {
   "cell_type": "markdown",
   "metadata": {},
   "source": [
    "<div class = \"alert alert-block alert-info\">\n",
    "\n",
    "> **There are many other such operators**\n",
    "\n",
    "> But for now, just keep them in mind\n",
    "\n",
    "> - %s -> string\n",
    "> - %d -> Integer\n",
    "> - %f -> Float\n",
    "> - %o -> Octal\n",
    "> - %x -> Hexadecimal\n",
    "> - %e -> exponential"
   ]
  },
  {
   "cell_type": "markdown",
   "metadata": {},
   "source": [
    "<div class = \"alert alert-block alert-info\" >\n",
    "    \n",
    "<h2><center>Changing case</center></h2>\n"
   ]
  },
  {
   "cell_type": "markdown",
   "metadata": {},
   "source": [
    "<div class = \"alert alert-block alert-info\" >\n",
    "\n",
    "> To change between cases, we can two methods\n",
    "\n",
    "\n",
    "> A method is like a function, but it normally belongs to a certain data type in programming languages, and does not work with other data types\n",
    "\n",
    "> For example, you may use the `print ()` function to print both numbers and strings, but you may not use the methods `.upper()` and `.lower()` with numbers.\n",
    "\n",
    "> Normally methods also use a `.` before the method name\n",
    "\n",
    "> And with methods, you usualy do not add an <ins>**argument**</ins> inside the brackets. That is, `.lower()` remains empty"
   ]
  },
  {
   "cell_type": "code",
   "execution_count": null,
   "metadata": {},
   "outputs": [],
   "source": [
    "my_dna = \"ATGC\"\n",
    "print (my_dna)"
   ]
  },
  {
   "cell_type": "code",
   "execution_count": null,
   "metadata": {},
   "outputs": [],
   "source": [
    "# print my_dna in lower case\n",
    "print(my_dna.lower()) # creating dna variable and changing to lower case\n",
    "\n",
    "lowercase_dna = my_dna.lower()\n",
    "print(lowercase_dna)\n"
   ]
  },
  {
   "cell_type": "markdown",
   "metadata": {},
   "source": [
    "<div class = \"alert alert-block alert-info\" >\n",
    "\n",
    "> Also note, that with <ins>**Methods**</ins>, the **variable name** comes **first** and then the method is applied: `my_dna.lower()`\n",
    "\n",
    "> While with <ins>**Functions**</ins>, the **function name** comes **first**, and then the variable name: `print(my_dna)`"
   ]
  },
  {
   "cell_type": "markdown",
   "metadata": {},
   "source": [
    "<div class = \"alert alert-block alert-info\" >\n",
    "    \n",
    "<h2><center>Replacement</center></h2>"
   ]
  },
  {
   "cell_type": "markdown",
   "metadata": {},
   "source": [
    "<div class = \"alert alert-block alert-info\" >\n",
    "    \n",
    "> The `.replace()` method takes **two arguments**\n"
   ]
  },
  {
   "cell_type": "code",
   "execution_count": null,
   "metadata": {},
   "outputs": [],
   "source": [
    "old_boyfriend = \"Jack\"\n",
    "print (old_boyfriend)"
   ]
  },
  {
   "cell_type": "code",
   "execution_count": null,
   "metadata": {},
   "outputs": [],
   "source": [
    "# replace \"ck\" with \"ke\"\n",
    "new_boyfriend = old_boyfriend.replace(\"ck\", \"ke\")\n",
    "print (new_boyfriend)"
   ]
  },
  {
   "cell_type": "code",
   "execution_count": null,
   "metadata": {},
   "outputs": [],
   "source": [
    "# you may replace multiple characters\n",
    "# or even replace it with nothing, a.k.a. delete characters\n",
    "\n",
    "protein = \"vlspadktnv\"\n",
    "\n",
    "print(protein.replace(\"pad\",\"\")\n",
    "print(protein.replace(\"pad\",\" \")) # note that there is a difference between this and the above"
   ]
  },
  {
   "cell_type": "markdown",
   "metadata": {},
   "source": [
    "<div class = \"alert alert-block alert-info\" >\n",
    "    \n",
    "    \n",
    "<h2><center>Extracting part of a string</center></h2>\n",
    "\n",
    "> We also use square brackets `[ ]` to deal with sub-sections of the string **_(substring)_**"
   ]
  },
  {
   "cell_type": "code",
   "execution_count": null,
   "metadata": {},
   "outputs": [],
   "source": [
    "protein = \"vlspadktnv\"\n",
    "# print positions three to five\n",
    "\n",
    "print(protein[3:5])\n",
    "\n",
    "print(protein[3:6])\n"
   ]
  },
  {
   "cell_type": "markdown",
   "metadata": {},
   "source": [
    "<div class=\"alert alert-block alert-danger\">\n",
    "    \n",
    "<h1><center>Warning!!</center></h1>\n",
    "    \n",
    "> Note that the first position is counted as position zero and not as position 1\n",
    "    \n",
    "> Aso note that the positions are inclusive at the start\n",
    "\n",
    "> But exclusive at the stop\n",
    "\n",
    "> So you will see **[3]** that was actually the fourth amino acid **p** **_(proline)_.** This position was included\n",
    "\n",
    "\n",
    "> But even though **d** **_(aspartic acid)_** was at position **5**, the substring does not include that position, but stops at the position before\n",
    "\n",
    "> Hence, `[3:5]`, really grabs everthing from position `[3:4]`\n",
    "\n",
    "(see exaple of indexing below)\n",
    "\n",
    "![image indexing](https://cdn.programiz.com/sites/tutorial2program/files/python-list-index.png)"
   ]
  },
  {
   "cell_type": "code",
   "execution_count": null,
   "metadata": {},
   "outputs": [],
   "source": [
    "# positions start at zero, not one\n",
    "protein = \"vlspadktnv\"\n",
    "print(protein[0:6])\n"
   ]
  },
  {
   "cell_type": "code",
   "execution_count": null,
   "metadata": {},
   "outputs": [],
   "source": [
    "# if we use a stop position beyond the end, it's the same as using the end\n",
    "print(protein[0:60])"
   ]
  },
  {
   "cell_type": "code",
   "execution_count": null,
   "metadata": {},
   "outputs": [],
   "source": [
    "# we can also leave the last position blank and it will print until the end\n",
    "print(protein[3:])"
   ]
  },
  {
   "cell_type": "code",
   "execution_count": null,
   "metadata": {},
   "outputs": [],
   "source": [
    "# we can also leave the first position blank and it will print from the start\n",
    "print(protein[:5])"
   ]
  },
  {
   "cell_type": "markdown",
   "metadata": {},
   "source": [
    "<div class = \"alert alert-block alert-info\" >\n",
    "    \n",
    "> Can you figure out what will print if you leave both positions blank?\n",
    "\n",
    "> `print(protein[:])`"
   ]
  },
  {
   "cell_type": "code",
   "execution_count": null,
   "metadata": {},
   "outputs": [],
   "source": [
    "# you may also print single characters\n",
    "\n",
    "protein = \"vlspadktnv\"\n",
    "first_residue = protein[0]\n",
    "print(first_residue)"
   ]
  },
  {
   "cell_type": "code",
   "execution_count": null,
   "metadata": {},
   "outputs": [],
   "source": [
    "# the positions are also numbered with negative numbers from the back\n",
    "\n",
    "# So you can either extract the last amino acid two ways\n",
    "\n",
    "protein = \"vlspadktnv\"\n",
    "\n",
    "last_residue = protein[9]\n",
    "print(last_residue)\n",
    "\n",
    "last_residue = protein[-1]\n",
    "print(last_residue)"
   ]
  },
  {
   "cell_type": "code",
   "execution_count": null,
   "metadata": {},
   "outputs": [],
   "source": [
    "second_last_residue  = protein[-2]\n",
    "print(second_last_residue)"
   ]
  },
  {
   "cell_type": "code",
   "execution_count": null,
   "metadata": {},
   "outputs": [],
   "source": [
    "# extract from the back\n",
    "\n",
    "protein = \"vlspadktnv\"\n",
    "print(protein[-4:-2])"
   ]
  },
  {
   "cell_type": "code",
   "execution_count": null,
   "metadata": {},
   "outputs": [],
   "source": [
    "# What will this print?\n",
    "\n",
    "'MNKMDLVADVAEKTDLSKAKATEVIDAVFA'[4:-1]"
   ]
  },
  {
   "cell_type": "code",
   "execution_count": null,
   "metadata": {},
   "outputs": [],
   "source": [
    "# What will this print?\n",
    "\n",
    "'MNKMDLVADVAEKTDLSKAKATEVIDAVFA'[-5:-4]"
   ]
  },
  {
   "cell_type": "code",
   "execution_count": null,
   "metadata": {},
   "outputs": [],
   "source": [
    "# What will this print?\n",
    "\n",
    "'MNKMDLVADVAEKTDLSKAKATEVIDAVFA'[5:5]"
   ]
  },
  {
   "cell_type": "code",
   "execution_count": null,
   "metadata": {},
   "outputs": [],
   "source": [
    "# What will this print?\n",
    "\n",
    "'MNKMDLVADVAEKTDLSKAKATEVIDAVFA'[0:0]"
   ]
  },
  {
   "cell_type": "code",
   "execution_count": null,
   "metadata": {},
   "outputs": [],
   "source": [
    "# What will this print?\n",
    "\n",
    "'MNKMDLVADVAEKTDLSKAKATEVIDAVFA'[:]"
   ]
  },
  {
   "cell_type": "code",
   "execution_count": null,
   "metadata": {},
   "outputs": [],
   "source": [
    "# you can also use the skip function\n",
    "# the default = 1, meaning no skipping\n",
    "\n",
    "money = \"$5$8$6$7\"\n",
    "money_values = money[1::2]\n",
    "print(money_values)"
   ]
  },
  {
   "cell_type": "code",
   "execution_count": null,
   "metadata": {},
   "outputs": [],
   "source": [
    "money = \"$5$8$6$7\"\n",
    "money_values = money[-1::-2] #you can also skip backwards. Be careful of your indexing\n",
    "print(money_values)"
   ]
  },
  {
   "cell_type": "code",
   "execution_count": null,
   "metadata": {},
   "outputs": [],
   "source": [
    "# how would you write this to create an acronym from the Big Mac Meal (BMM)\n",
    "\n",
    "order = \"TheBigMacMeal\"\n",
    "\n",
    "acronym = order[3:-1:3] \n",
    "print (acronym)"
   ]
  },
  {
   "cell_type": "markdown",
   "metadata": {},
   "source": [
    "<div class = \"alert alert-block alert-info\" >\n",
    "\n",
    "<h2><center>Counting and finding substrings</center></h2>"
   ]
  },
  {
   "cell_type": "markdown",
   "metadata": {},
   "source": [
    "<div class = \"alert alert-block alert-info\" >\n",
    "\n",
    "> In Biology it's very common to ascertain the amount of percentage of something. E.g. the **GC content** of a sequence in a fastq report\n",
    "\n",
    "> We may use the `.count()` method to start this off"
   ]
  },
  {
   "cell_type": "code",
   "execution_count": null,
   "metadata": {},
   "outputs": [],
   "source": [
    "protein = \"vlspadktnv\"\n",
    "\n",
    "# count amino acid residues\n",
    "valine_count = protein.count('v')\n",
    "lsp_count = protein.count('lsp')\n",
    "tryptophan_count = protein.count('w')\n",
    "\n",
    "\n",
    "# now print the counts\n",
    "# noticed that I used the three different methods that we saw before\n",
    "print(\"valines: \" + str(valine_count))\n",
    "print(\"tryptophans: %s\" % tryptophan_count)\n",
    "print(\"lsp:\", lsp_count)"
   ]
  },
  {
   "cell_type": "markdown",
   "metadata": {},
   "source": [
    "<div class = \"alert alert-block alert-info\" >\n",
    "\n",
    "> If you wish to know at which position in your string\n",
    "\n",
    "> Where you first encounter something in you are specifically looking for\n",
    "\n",
    "> Then you use the `.find()` method"
   ]
  },
  {
   "cell_type": "code",
   "execution_count": null,
   "metadata": {},
   "outputs": [],
   "source": [
    "protein = \"vlspadktnv\"\n",
    "\n",
    "print(str(protein.find('p')))\n",
    "print(str(protein.find('kt')))\n",
    "print(str(protein.find('w'))) # .find() gives \"-1\" as output if what you are looking for is not in the string"
   ]
  },
  {
   "cell_type": "markdown",
   "metadata": {},
   "source": [
    "<div class = \"alert alert-block alert-info\" >\n",
    "\n",
    "\n",
    "<h2><center>String operators:</center></h2>\n",
    "\n",
    "                        \n",
    ">`in` and `not in`"
   ]
  },
  {
   "cell_type": "code",
   "execution_count": null,
   "metadata": {},
   "outputs": [],
   "source": [
    "TATA_box = 'TATATATATATATATATATATATA'\n",
    "\n",
    "'TATA' in TATA_box\n",
    "\n",
    "# gives a Boolean as output: True or False"
   ]
  },
  {
   "cell_type": "code",
   "execution_count": null,
   "metadata": {},
   "outputs": [],
   "source": [
    "\"GC\" in TATA_box"
   ]
  },
  {
   "cell_type": "code",
   "execution_count": null,
   "metadata": {},
   "outputs": [],
   "source": [
    "\"GC\" not in TATA_box"
   ]
  },
  {
   "cell_type": "code",
   "execution_count": null,
   "metadata": {},
   "outputs": [],
   "source": [
    "# Let's play with some code\n",
    "\n",
    "your_dna = input(\"\\n\\nPlease Enter your DNA to see whether you are a superhuman: \\n\\n\"\n",
    "                \"If your name starts with A - G, your DNA is GATCA\\n\"\n",
    "                \"If your name starts with H - N, your DNA is CATT\\n\"                 \n",
    "                \"If your name starts with O - S, your DNA is AGAT\\n\"\n",
    "                \"If your name starts with T - Z, your DNA is TAAT\\n\")\n",
    "\n",
    "your_dna = your_dna.upper()\n",
    "\n",
    "\n",
    "superhuman_DNA = \"ATTCCATCAAGCTGATCAGGTTATCCATCTAGATCATNNATAAAGTACTGGGCATGCAA\"\n",
    "if your_dna in superhuman_DNA:\n",
    "    print (\"\\nCongratulations. Your DNA shows that you have superpowers!!\")\n",
    "    \n",
    "elif your_dna == \"CATT\" or  your_dna == \"TAAT\":\n",
    "    print(\"\\nI'm sorry. Your DNA shows that you are NAUGHTY.\\n\"\n",
    "       \"Maybe try to be on Santa's good list next year.\")\n",
    "    \n",
    "else:\n",
    "    print(\"\\n\\nERROR: Please enter the correct DNA sequence\")"
   ]
  },
  {
   "cell_type": "markdown",
   "metadata": {},
   "source": [
    "<div class = \"alert alert-block alert-info\" >\n",
    "    \n",
    "> Use `help()` to find all the methods you can use when you are working with strings\n",
    "\n",
    "> You can try it now to see the methods we have already used\n",
    "\n",
    "> And which may be useful to you"
   ]
  },
  {
   "cell_type": "code",
   "execution_count": null,
   "metadata": {},
   "outputs": [],
   "source": [
    "help(str)"
   ]
  },
  {
   "cell_type": "markdown",
   "metadata": {},
   "source": [
    "<div class = \"alert alert-block alert-info\" >\n",
    "\n",
    "<h2><center>EXERCISES</center></h2>"
   ]
  },
  {
   "cell_type": "markdown",
   "metadata": {},
   "source": [
    "***1. Calculating AT content***\n",
    "\n",
    "Here's a short DNA sequence:\n",
    "ACTGATCGATTACGTATAGTATTTGCTATCATACATATATATCGATGCGTTCAT\n",
    "\n",
    "Write a program that will print out the AT content of this DNA sequence. \n",
    "Hint: you can use normal mathematical symbols like add (+), subtract (-), multiply (*), divide\n",
    "(/) and parentheses to carry out calculations on numbers in Python."
   ]
  },
  {
   "cell_type": "code",
   "execution_count": null,
   "metadata": {},
   "outputs": [],
   "source": [
    "my_sequence = \"ACTGATCGATTACGTATAGTATTTGCTATCATACATATATATCGATGCGTTCAT\"\n",
    "\n",
    "count_As = my_sequence.count(\"A\")\n",
    "count_Ts = my_sequence.count(\"T\")\n",
    "#AT_count = count_As + count_Ts\n",
    "length_seq = len(my_sequence)\n",
    "\n",
    "# To know the ratio of the combined As and Ts in your sequence:\n",
    "\n",
    "AT_perc = ((count_As + count_Ts)/length_seq)*100\n",
    "\n",
    "print (AT_perc)\n"
   ]
  },
  {
   "cell_type": "markdown",
   "metadata": {},
   "source": [
    "**_2. Complementing DNA_**\n",
    "\n",
    "Here's a short DNA sequence:\n",
    "ACTGATCGATTACGTATAGTATTTGCTATCATACATATATATCGATGCGTTCAT\n",
    "\n",
    "\n",
    "Write a program that will print the complement of this sequence."
   ]
  },
  {
   "cell_type": "code",
   "execution_count": null,
   "metadata": {},
   "outputs": [],
   "source": [
    "# replace them all with small letters, \n",
    "# so that they don't keep replacing the nucleotides that were already replaced\n",
    "\n",
    "my_sequence = \"ACTGATCGATTACGTATAGTATTTGCTATCATACATATATATCGATGCGTTCAT\"\n",
    "\n",
    "replacement_1 = my_sequence.replace(\"A\", \"t\")\n",
    "\n",
    "replacement_2 = replacement_1.replace(\"C\", \"g\")\n",
    "\n",
    "replacement_3 = replacement_2.replace(\"T\", \"a\")\n",
    "\n",
    "replacement_4 = replacement_3.replace(\"G\", \"c\")\n",
    "\n",
    "print(replacement_4)\n",
    "my_complement = replacement_4.upper()\n",
    "\n",
    "print(my_sequence)\n",
    "print(my_complement)\n",
    "\n"
   ]
  },
  {
   "cell_type": "markdown",
   "metadata": {},
   "source": [
    "**_3. Restriction fragment lengths_**\n",
    "\n",
    "Here's a short DNA sequence:\n",
    "ACTGATCGATTACGTATAGTAGAATTCTATCATACATATATATCGATGCGTTCAT\n",
    "\n",
    "\n",
    "The sequence contains a recognition site for the EcoRI restriction enzyme, which\n",
    "cuts at the motif G*AATTC (the position of the cut is indicated by an asterisk).\n",
    "Write a program which will calculate the size of the two fragments that will be\n",
    "produced when the DNA sequence is digested with EcoRI.\n"
   ]
  },
  {
   "cell_type": "code",
   "execution_count": null,
   "metadata": {},
   "outputs": [],
   "source": [
    "\n",
    "# I like to first start with a tester\n",
    "\n",
    "# What are my steps?:\n",
    "# 1. I need to be able to find this sequence,\n",
    "#    and its position in the dna:                               .find()\n",
    "# 2. In order to know the length of 2nd fragments, \n",
    "#    I need to know the length of the entire DNA sequence       .len()\n",
    "\n",
    "test_sequence = \"TAGAATTCTA\"\n",
    "position_1st_fragm = test_sequence.find(\"GAATTC\")\n",
    "print(position_1st_fragm)\n",
    "\n"
   ]
  },
  {
   "cell_type": "code",
   "execution_count": null,
   "metadata": {},
   "outputs": [],
   "source": [
    "# note that becaue the positions start at 0, \n",
    "# you have to add \"1\" to make sure the math is correct\n",
    "len_1st_fragment = position_1st_fragm + 1 \n",
    "print(len_1st_fragment)\n"
   ]
  },
  {
   "cell_type": "code",
   "execution_count": null,
   "metadata": {},
   "outputs": [],
   "source": [
    "\n",
    "len_test_seq = len(test_sequence)\n",
    "print(len_test_seq)\n",
    "\n",
    "\n",
    "len_2nd_fragment = len_test_seq - len_1st_fragment \n",
    "print(len_2nd_fragment)\n",
    "\n",
    "# Now that I know this is working, I just apply it to my real sequence"
   ]
  },
  {
   "cell_type": "code",
   "execution_count": null,
   "metadata": {},
   "outputs": [],
   "source": [
    "my_sequence = \"ACTGATCGATTACGTATAGTAGAATTCTATCATACATATATATCGATGCGTTCAT\"\n",
    "\n",
    "position_1st_fragm = my_sequence.find(\"GAATTC\")\n",
    "len_1st_fragment = position_1st_fragm + 1 \n",
    "print(len_1st_fragment)\n",
    "\n",
    "length_my_sequence = len(my_sequence)\n",
    "print(length_my_sequence)\n",
    "\n",
    "len_2nd_fragment = length_my_sequence - len_1st_fragment \n",
    "print(len_2nd_fragment)\n",
    "\n"
   ]
  },
  {
   "cell_type": "markdown",
   "metadata": {},
   "source": [
    "**_4. Splicing out introns, part one_**\n",
    "\n",
    "Here's a short section of genomic DNA:\n",
    "ATCGATCGATCGATCGACTGACTAGTCATAGCTATGCATGTAGCTACTCGATCGATCGATCGATCGATCGATCGATCGATCGATCATGCTATCATCGATCGATATCGATGCATCACTACTAT\n",
    "\n",
    "\n",
    "It comprises two exons and an intron. \n",
    "The first exon runs from the start of the sequence to the sixty-third character, \n",
    "and the second exon runs from the ninety-first character to the end of the sequence. \n",
    "Write a program that will print just the coding regions of the DNA sequence."
   ]
  },
  {
   "cell_type": "code",
   "execution_count": null,
   "metadata": {},
   "outputs": [],
   "source": [
    "# to make sure that I don't get confused about the positions of the characters\n",
    "# I'm going to create a test sequence\n",
    "# If this question had said that the first exon was from the start to the 4th character, \n",
    "# what would that look like?\n",
    "# Make sure that you understand whether they mean the 4th character from a coder's view\n",
    "# or from a non-programmer's view\n",
    "# Here they mean up until, but NOT INCLUDING the 4th character (coder's view)\n",
    "# In other words, print the first three characters from a non-coder's view\n",
    "\n",
    "\n",
    "test_seq = \"ATCGAAAACTTT\"\n",
    "\n",
    "# length_test_seq = len(test_seq)\n",
    "# print(length_test_seq)\n",
    "\n",
    "\n",
    "test_first_exon = test_seq[:3] \n",
    "print(test_first_exon)\n"
   ]
  },
  {
   "cell_type": "markdown",
   "metadata": {},
   "source": [
    "> So how will I slice from the start and **UP to and EXCLUDING** character 4?\n",
    "\n",
    "> This means, we need to stop at the first 'C'\n",
    "\n",
    "> So in the real problem, they want to print 63 characters. Since we start at position 0,\n",
    "\n",
    "> I know that I'm going to use \"62\" in the real problem \n",
    "\n",
    "> Because it will print from position 0 -> 61, which is 62 characters"
   ]
  },
  {
   "cell_type": "code",
   "execution_count": null,
   "metadata": {},
   "outputs": [],
   "source": [
    "\n",
    "# so if the second exon ran from the 9th position to the end, how will I slice that?\n",
    "# it looks like the last \"C\" is the 9th character, and it lies at position \"8\"\n",
    "# which makes sense, because again, we start indexing at 0\n",
    "\n",
    "test_seq = \"ATCGAAAACTTT\"\n",
    "test_last_exon = test_seq[8:] \n",
    "\n",
    "# so now I know that I will have to use the \"90th\" position \n",
    "# in the real problem\n",
    "\n",
    "# Can you see why it's good to start with a test set??\n",
    "\n",
    "print(test_last_exon)\n"
   ]
  },
  {
   "cell_type": "code",
   "execution_count": null,
   "metadata": {},
   "outputs": [],
   "source": [
    "my_dna = \"ATCGATCGATCGATCGACTGACTAGTCATAGCTATGCATGTAGCTACTCGATCGATCGATCGATCGATCGATCGATCGATCGATCATGCTATCATCGATCGATATCGATGCATCACTACTAT\"\n",
    "\n",
    "# Again, the person mentions up until, but not including, the 63rd character\n",
    "# They mean that they only want 62 characters to be PRINTED. \n",
    "# At least this is how a non-programmer would say it\n",
    "# Since indexing starts at 0\n",
    "# 0 to 61 will be 62 characters\n",
    "# Don't be alarmed if you got confused here. \n",
    "# This is just an example of how you need to make sure,\n",
    "# That you and the other person are on the same page\n",
    "\n",
    "first_exon = my_dna[:62] # this is index 0 - 61\n",
    "#print (len(first_exon))\n",
    "last_exon = my_dna[90:] # this is index 90 - infinity\n",
    "#print (len(last_exon))\n",
    "\n",
    "#finally I must concatenate the exons\n",
    "\n",
    "combined_exons = first_exon + last_exon\n",
    "\n",
    "print(combined_exons)\n",
    "print(len(combined_exons))\n"
   ]
  },
  {
   "cell_type": "markdown",
   "metadata": {},
   "source": [
    "**_5. Splicing out introns, part two_**\n",
    "\n",
    "Using the data from part one, write a program that will calculate what percentage\n",
    "of the DNA sequence is coding.\n",
    "\n"
   ]
  },
  {
   "cell_type": "code",
   "execution_count": null,
   "metadata": {},
   "outputs": [],
   "source": [
    "my_dna = \"ATCGATCGATCGATCGACTGACTAGTCATAGCTATGCATGTAGCTACTCGATCGATCGATCGATCGATCGATCGATCGATCGATCATGCTATCATCGATCGATATCGATGCATCACTACTAT\"\n",
    "\n",
    "\n",
    "length_my_dna = len(my_dna)\n",
    "percent_CDS = (len(combined_exons)/length_my_dna)*100\n",
    "print (round(percent_CDS))"
   ]
  },
  {
   "cell_type": "markdown",
   "metadata": {},
   "source": [
    "**_6. Splicing out introns, part three_**\n",
    "\n",
    "Using the data from part one, write a program that will print out the original\n",
    "genomic DNA sequence with coding bases in uppercase and non-coding bases in\n",
    "lowercase."
   ]
  },
  {
   "cell_type": "code",
   "execution_count": null,
   "metadata": {},
   "outputs": [],
   "source": [
    "# let's go back to testing with my test sequence first\n",
    "# The intron lies from the 5th character to the 8th character\n",
    "# In splicing terms it will start at index 4, which is position 5, \n",
    "# up until the index before 8, which is the 8th character, \n",
    "# if we start from zero\n",
    "\n",
    "intron = (test_seq[4:8]).lower()\n",
    "print(intron)\n",
    "\n",
    "comb_exons_introns = test_first_exon + intron + test_last_exon\n",
    "print(comb_exons_introns)\n",
    "\n",
    "\n",
    "# now I can apply it to mine\n"
   ]
  },
  {
   "cell_type": "markdown",
   "metadata": {},
   "source": [
    "<div class=\"alert alert-block alert-danger\">\n",
    "\n",
    "> You need to **PRACTICE** to get the hang of this.\n",
    "\n",
    "> Don't be alarmed if it's confusing at the start.\n",
    "\n",
    "> Have a look at the picture again at the beginning that shows the indexing."
   ]
  },
  {
   "cell_type": "code",
   "execution_count": null,
   "metadata": {},
   "outputs": [],
   "source": [
    "intron = (my_dna[62:90]).lower() # this is from index/position 62 - 89\n",
    "modified_dna = first_exon + intron + last_exon\n",
    "\n",
    "print(modified_dna)"
   ]
  },
  {
   "cell_type": "markdown",
   "metadata": {},
   "source": [
    "<div class = \"alert alert-block alert-info\" >\n",
    "\n",
    "<h2><center>BioPython</center></h2>\n",
    "\n",
    "\n",
    "\n",
    "> We can use BioPython to do some of the tasks that we did manually\n",
    "\n",
    "> Find the **[Link to the BioPython tutorial and cookbook below]**  \n",
    "<a href=http://biopython.org/DIST/docs/tutorial/Tutorial.html>BioPython Tutorial</a>\n",
    "\n",
    "\n",
    "\n"
   ]
  },
  {
   "cell_type": "code",
   "execution_count": null,
   "metadata": {},
   "outputs": [],
   "source": [
    "# There is a BioPython library for calculating GC content..\n",
    "# Since it's pretty common task for Biologist\n",
    "\n",
    "from Bio.Seq import Seq\n",
    "from Bio.SeqUtils import GC\n",
    "my_seq = Seq(\"GATCGATGGGCCTATATAGGATCGAAAATCGC\")\n",
    "GC(my_seq)"
   ]
  },
  {
   "cell_type": "code",
   "execution_count": null,
   "metadata": {},
   "outputs": [],
   "source": [
    "# Get the complement of a DNA sequence\n",
    "\n",
    "from Bio.Seq import Seq\n",
    "my_seq = Seq(\"GATCGATGGGCCTATATAGGATCGAAAATCGC\")\n",
    "my_seq.complement()"
   ]
  },
  {
   "cell_type": "code",
   "execution_count": null,
   "metadata": {},
   "outputs": [],
   "source": [
    "my_seq.reverse_complement()\n"
   ]
  },
  {
   "cell_type": "code",
   "execution_count": null,
   "metadata": {},
   "outputs": [],
   "source": [
    "# Reverse complement coding sequences (CDS)\n",
    "\n",
    "from Bio.Seq import Seq\n",
    "coding_dna = Seq(\"ATGGCCATTGTAATGGGCCGCTGAAAGGGTGCCCGATAG\")\n",
    "template_dna = coding_dna.reverse_complement()\n",
    "template_dna\n"
   ]
  },
  {
   "cell_type": "code",
   "execution_count": null,
   "metadata": {},
   "outputs": [],
   "source": [
    "# Transcribe CDS\n",
    "messenger_rna = coding_dna.transcribe()\n",
    "messenger_rna"
   ]
  },
  {
   "cell_type": "code",
   "execution_count": null,
   "metadata": {},
   "outputs": [],
   "source": [
    "# Translate mRNA\n",
    "\n",
    "messenger_rna = Seq(\"AUGGCCAUUGUAAUGGGCCGCUGAAAGGGUGCCCGAUAG\")\n",
    "translated_mRNA = messenger_rna.translate()\n",
    "translated_mRNA\n"
   ]
  },
  {
   "cell_type": "code",
   "execution_count": null,
   "metadata": {},
   "outputs": [],
   "source": [
    "# some translations are unresolved\n",
    "# So you might need to specify the use of the correct Translation table\n",
    "\n",
    "translated_mRNA = coding_dna.translate(table=\"Vertebrate Mitochondrial\")\n",
    "translated_mRNA"
   ]
  },
  {
   "cell_type": "code",
   "execution_count": null,
   "metadata": {},
   "outputs": [],
   "source": [
    "# Now, you may want to translate the nucleotides \n",
    "# up to the first in frame stop codon\n",
    "# and then stop (as happens in nature)\n",
    "\n",
    "translated_mRNA =  coding_dna.translate(table =  \"Vertebrate Mitochondrial\", to_stop=True)\n",
    "translated_mRNA"
   ]
  },
  {
   "cell_type": "markdown",
   "metadata": {},
   "source": [
    "<div class = \"alert alert-block alert-info\" >\n",
    "\n",
    "<h2><center>THE END</center></h2>"
   ]
  }
 ],
 "metadata": {
  "kernelspec": {
   "display_name": "Python 3",
   "language": "python",
   "name": "python3"
  },
  "language_info": {
   "codemirror_mode": {
    "name": "ipython",
    "version": 3
   },
   "file_extension": ".py",
   "mimetype": "text/x-python",
   "name": "python",
   "nbconvert_exporter": "python",
   "pygments_lexer": "ipython3",
   "version": "3.7.3"
  }
 },
 "nbformat": 4,
 "nbformat_minor": 2
}
